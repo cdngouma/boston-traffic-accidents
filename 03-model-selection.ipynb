{
 "cells": [
  {
   "cell_type": "code",
   "execution_count": 1,
   "id": "00f215f5-be64-4762-9973-bbb5ba436e45",
   "metadata": {},
   "outputs": [],
   "source": [
    "import etl\n",
    "import pandas as pd\n",
    "import numpy as np"
   ]
  },
  {
   "cell_type": "code",
   "execution_count": 2,
   "id": "190b4821-f24d-43b9-afcb-deb36e2e4c8d",
   "metadata": {},
   "outputs": [],
   "source": [
    "from sklearn.model_selection import train_test_split, GridSearchCV\n",
    "from sklearn.preprocessing import StandardScaler, OneHotEncoder, OrdinalEncoder\n",
    "from sklearn.compose import ColumnTransformer\n",
    "from sklearn.pipeline import Pipeline\n",
    "from sklearn.metrics import classification_report, confusion_matrix, accuracy_score, f1_score, cohen_kappa_score\n",
    "import matplotlib.pyplot as plt\n",
    "import seaborn as sns"
   ]
  },
  {
   "cell_type": "code",
   "execution_count": 3,
   "id": "52de11a2-4a66-4368-b99b-aaf66bc47d0a",
   "metadata": {},
   "outputs": [],
   "source": [
    "from imblearn.pipeline import Pipeline as ImbPipeline\n",
    "from imblearn.over_sampling import SMOTE, BorderlineSMOTE\n",
    "from imblearn.under_sampling import RandomUnderSampler"
   ]
  },
  {
   "cell_type": "code",
   "execution_count": 4,
   "id": "2692b7e7-2242-4702-86d4-cc11df3805b5",
   "metadata": {},
   "outputs": [],
   "source": [
    "from sklearn.tree import DecisionTreeClassifier\n",
    "import xgboost as xgb\n",
    "from lightgbm import LGBMClassifier"
   ]
  },
  {
   "cell_type": "code",
   "execution_count": 5,
   "id": "b83a2d0b-ca89-4095-bd6a-8bdb2add3737",
   "metadata": {},
   "outputs": [],
   "source": [
    "import tensorflow as tf\n",
    "from tensorflow.keras.models import Sequential\n",
    "from tensorflow.keras.layers import Dense, Dropout, Input\n",
    "from scikeras.wrappers import KerasClassifier\n",
    "from keras.utils import to_categorical"
   ]
  },
  {
   "cell_type": "code",
   "execution_count": 6,
   "id": "165aa359-3ac9-408f-a3fb-c610fd418e61",
   "metadata": {},
   "outputs": [
    {
     "name": "stdout",
     "output_type": "stream",
     "text": [
      "CPU times: total: 49.9 s\n",
      "Wall time: 1min 7s\n"
     ]
    },
    {
     "data": {
      "text/plain": [
       "(233093, 14)"
      ]
     },
     "execution_count": 6,
     "metadata": {},
     "output_type": "execute_result"
    }
   ],
   "source": [
    "%%time\n",
    "df = etl.load(files=[\"data/US_Accidents_March23.csv\"])\n",
    "df.shape"
   ]
  },
  {
   "cell_type": "code",
   "execution_count": 7,
   "id": "db81c511-8ca4-44a7-8ee8-9f683ffb7eb5",
   "metadata": {},
   "outputs": [
    {
     "data": {
      "text/html": [
       "<div>\n",
       "<style scoped>\n",
       "    .dataframe tbody tr th:only-of-type {\n",
       "        vertical-align: middle;\n",
       "    }\n",
       "\n",
       "    .dataframe tbody tr th {\n",
       "        vertical-align: top;\n",
       "    }\n",
       "\n",
       "    .dataframe thead th {\n",
       "        text-align: right;\n",
       "    }\n",
       "</style>\n",
       "<table border=\"1\" class=\"dataframe\">\n",
       "  <thead>\n",
       "    <tr style=\"text-align: right;\">\n",
       "      <th></th>\n",
       "      <th>Distance(mi)</th>\n",
       "      <th>Temperature(F)</th>\n",
       "      <th>Wind_Speed(mph)</th>\n",
       "      <th>Precipitation(in)</th>\n",
       "      <th>Duration(min)</th>\n",
       "      <th>Hour</th>\n",
       "      <th>Month</th>\n",
       "      <th>Crossing</th>\n",
       "      <th>Traffic_Signal</th>\n",
       "      <th>Is_Highway</th>\n",
       "      <th>Is_Weekend</th>\n",
       "      <th>Is_Night</th>\n",
       "      <th>Weather_Condition</th>\n",
       "      <th>Severity</th>\n",
       "    </tr>\n",
       "  </thead>\n",
       "  <tbody>\n",
       "    <tr>\n",
       "      <th>87</th>\n",
       "      <td>0.01</td>\n",
       "      <td>14.0</td>\n",
       "      <td>11.5</td>\n",
       "      <td>0.0</td>\n",
       "      <td>30.000000</td>\n",
       "      <td>5</td>\n",
       "      <td>2</td>\n",
       "      <td>False</td>\n",
       "      <td>False</td>\n",
       "      <td>False</td>\n",
       "      <td>False</td>\n",
       "      <td>True</td>\n",
       "      <td>Winter Weather</td>\n",
       "      <td>3</td>\n",
       "    </tr>\n",
       "    <tr>\n",
       "      <th>91</th>\n",
       "      <td>0.01</td>\n",
       "      <td>17.1</td>\n",
       "      <td>21.9</td>\n",
       "      <td>0.0</td>\n",
       "      <td>871.000000</td>\n",
       "      <td>6</td>\n",
       "      <td>2</td>\n",
       "      <td>False</td>\n",
       "      <td>False</td>\n",
       "      <td>True</td>\n",
       "      <td>False</td>\n",
       "      <td>True</td>\n",
       "      <td>Cloudy</td>\n",
       "      <td>3</td>\n",
       "    </tr>\n",
       "    <tr>\n",
       "      <th>96</th>\n",
       "      <td>0.01</td>\n",
       "      <td>15.1</td>\n",
       "      <td>18.4</td>\n",
       "      <td>0.0</td>\n",
       "      <td>49.066667</td>\n",
       "      <td>7</td>\n",
       "      <td>2</td>\n",
       "      <td>False</td>\n",
       "      <td>False</td>\n",
       "      <td>True</td>\n",
       "      <td>False</td>\n",
       "      <td>False</td>\n",
       "      <td>Cloudy</td>\n",
       "      <td>3</td>\n",
       "    </tr>\n",
       "    <tr>\n",
       "      <th>150</th>\n",
       "      <td>0.00</td>\n",
       "      <td>21.0</td>\n",
       "      <td>11.5</td>\n",
       "      <td>0.0</td>\n",
       "      <td>30.000000</td>\n",
       "      <td>7</td>\n",
       "      <td>2</td>\n",
       "      <td>False</td>\n",
       "      <td>False</td>\n",
       "      <td>False</td>\n",
       "      <td>False</td>\n",
       "      <td>False</td>\n",
       "      <td>Winter Weather</td>\n",
       "      <td>2</td>\n",
       "    </tr>\n",
       "    <tr>\n",
       "      <th>235</th>\n",
       "      <td>0.01</td>\n",
       "      <td>19.0</td>\n",
       "      <td>5.8</td>\n",
       "      <td>0.0</td>\n",
       "      <td>30.000000</td>\n",
       "      <td>6</td>\n",
       "      <td>2</td>\n",
       "      <td>False</td>\n",
       "      <td>True</td>\n",
       "      <td>False</td>\n",
       "      <td>False</td>\n",
       "      <td>True</td>\n",
       "      <td>Clear</td>\n",
       "      <td>2</td>\n",
       "    </tr>\n",
       "  </tbody>\n",
       "</table>\n",
       "</div>"
      ],
      "text/plain": [
       "     Distance(mi)  Temperature(F)  Wind_Speed(mph)  Precipitation(in)  \\\n",
       "87           0.01            14.0             11.5                0.0   \n",
       "91           0.01            17.1             21.9                0.0   \n",
       "96           0.01            15.1             18.4                0.0   \n",
       "150          0.00            21.0             11.5                0.0   \n",
       "235          0.01            19.0              5.8                0.0   \n",
       "\n",
       "     Duration(min)  Hour  Month  Crossing  Traffic_Signal  Is_Highway  \\\n",
       "87       30.000000     5      2     False           False       False   \n",
       "91      871.000000     6      2     False           False        True   \n",
       "96       49.066667     7      2     False           False        True   \n",
       "150      30.000000     7      2     False           False       False   \n",
       "235      30.000000     6      2     False            True       False   \n",
       "\n",
       "     Is_Weekend  Is_Night Weather_Condition  Severity  \n",
       "87        False      True    Winter Weather         3  \n",
       "91        False      True            Cloudy         3  \n",
       "96        False     False            Cloudy         3  \n",
       "150       False     False    Winter Weather         2  \n",
       "235       False      True             Clear         2  "
      ]
     },
     "execution_count": 7,
     "metadata": {},
     "output_type": "execute_result"
    }
   ],
   "source": [
    "df.head()"
   ]
  },
  {
   "cell_type": "markdown",
   "id": "5febf174-a6e6-4b0a-8042-586e205535c9",
   "metadata": {},
   "source": [
    "## Model Selection"
   ]
  },
  {
   "cell_type": "code",
   "execution_count": 8,
   "id": "09883119-4484-4dec-92ba-ac226b211552",
   "metadata": {},
   "outputs": [],
   "source": [
    "def stratified_downsample(df, target_col, downsample_pct=0.2):\n",
    "    _, downsampled_df = train_test_split(df, test_size=downsample_pct, stratify=df[target_col], random_state=42)\n",
    "    return downsampled_df"
   ]
  },
  {
   "cell_type": "code",
   "execution_count": 9,
   "id": "982f4c9f-ad09-48ba-846f-22ffa95d3265",
   "metadata": {},
   "outputs": [],
   "source": [
    "def plot_confusion_matrix(cm):\n",
    "    plt.figure(figsize=(4, 3))\n",
    "    sns.heatmap(cm, annot=True, fmt=\".2f\", cmap=\"Blues\", cbar=False, xticklabels=[1, 2, 3, 4], yticklabels=[1, 2, 3, 4])\n",
    "    plt.xlabel('Predicted')\n",
    "    plt.ylabel('Actual')\n",
    "    plt.title('Confusion Matrix')\n",
    "    plt.tight_layout()\n",
    "    plt.show()"
   ]
  },
  {
   "cell_type": "code",
   "execution_count": 10,
   "id": "ae87c1f2-e951-4781-b80d-c06694265b29",
   "metadata": {},
   "outputs": [],
   "source": [
    "def evaluate(y_true, y_pred):\n",
    "    accuracy = accuracy_score(y_true, y_pred)\n",
    "    f1 = f1_score(y_true, y_pred, average='weighted')\n",
    "    kappa = cohen_kappa_score(y_true, y_pred)\n",
    "    print(f\"Accuracy: {accuracy:.3f}, F1 Score: {f1:.3f}, Cohen's Kappa: {kappa:.3f}\")"
   ]
  },
  {
   "cell_type": "code",
   "execution_count": 11,
   "id": "6e93bcaa-208b-49c5-b767-af57bad052c8",
   "metadata": {},
   "outputs": [],
   "source": [
    "def plot_feat_importance(data):\n",
    "    importances, feature_names = data\n",
    "    # Plotting the feature importances\n",
    "    plt.figure(figsize=(8, 5))\n",
    "    plt.barh(feature_names, importances)\n",
    "    plt.title(\"Feature Importance\")\n",
    "    plt.xlabel(\"Importance\")\n",
    "    plt.ylabel(\"Feature\")\n",
    "    plt.tight_layout()\n",
    "    plt.show()"
   ]
  },
  {
   "cell_type": "code",
   "execution_count": 12,
   "id": "bf6c05d8-9767-4904-810d-f718b13d1d94",
   "metadata": {},
   "outputs": [],
   "source": [
    "def train_pipeline(clf, build_fn=None, data=None, files=None, ignore_vars=None, ordinal_feats=[], test_size=0.3, \n",
    "                   scoring='f1_weighted', grid_search=False, params=None, sampling_params=None, \n",
    "                   show_cm=True, include_importance=False, full_train=False, device='cpu'):\n",
    "    # 1-Load Data\n",
    "    if data is None and files is None:\n",
    "        raise Exception(\"DataFrame or list of files expected.\")\n",
    "    elif files is not None:\n",
    "        print(\"Importing data...\")\n",
    "        data = etl.load(files)\n",
    "    \n",
    "    # 2-Define preprocessing steps\n",
    "    # Define features and target\n",
    "    if \"Severity\" not in data.columns:\n",
    "        raise ValueError(\"Column 'Severity' not found in the data.\")\n",
    "    \n",
    "    X = data.drop(columns=[\"Severity\"])\n",
    "    y = data[\"Severity\"]\n",
    "    \n",
    "    # Ignore certain columns\n",
    "    if ignore_vars is None:\n",
    "        ignore_vars = []\n",
    "        \n",
    "    X = X[[c for c in X.columns if c not in ignore_vars]]\n",
    "    \n",
    "    # Normalize numerical variables\n",
    "    num_features = X.select_dtypes(include=['number']).columns.tolist()\n",
    "    num_transformer = StandardScaler() if num_features else 'passthrough'\n",
    "    \n",
    "    # One-hot encode categorical variables\n",
    "    cat_features = [c for c in X.select_dtypes(include=['object', 'category']).columns.tolist() if c not in ordinal_feats]\n",
    "    cat_transformer = OneHotEncoder(drop='first', handle_unknown='ignore') if cat_features else 'passthrough'\n",
    "    \n",
    "    # Handle ordinal variables\n",
    "    ord_features = [c for c in ordinal_feats if c in X.columns]\n",
    "    ord_transformer = 'passthrough'\n",
    "    \n",
    "    # Handle boolean variables\n",
    "    bool_features = X.select_dtypes(include=['bool']).columns.tolist()\n",
    "    bool_transformer = 'passthrough'\n",
    "    \n",
    "    # Encode ordinal target\n",
    "    target_transformer = OrdinalEncoder(categories=[[1, 2, 3, 4]])\n",
    "    y = target_transformer.fit_transform(y.values.reshape(-1, 1)).ravel()  # Flatten the target array\n",
    "    if clf == \"mlp\":\n",
    "        n_classes = len(np.unique(y))\n",
    "        # One-hot encode the target variable\n",
    "        y = to_categorical(y, num_classes=n_classes)\n",
    "    \n",
    "    if sampling_params:\n",
    "        print(\"Resampling with SMOTE..\")\n",
    "        # Add SMOTE oversampling to the pipeline\n",
    "        smote_method = sampling_params.get('smote-method')\n",
    "        sampling_strategy = sampling_params.get('sampling_strategy', 'auto')\n",
    "        \n",
    "        if smote_method:\n",
    "            if type(sampling_strategy) is dict:\n",
    "                sampling_strategy = {k: int(np.ceil(v*(1-test_size)*len(X))) for k,v in sampling_strategy.items()}\n",
    "        \n",
    "            if smote_method == 'class-wise':\n",
    "                smote = SMOTE(sampling_strategy=sampling_strategy, random_state=42)\n",
    "            elif smote_method == 'borderline':\n",
    "                smote = BorderlineSMOTE(sampling_strategy=sampling_strategy, random_state=42)\n",
    "            else:\n",
    "                raise Exception(f\"SMOTE method '{smote_method}' not supported\")\n",
    "        else:\n",
    "            smote = 'passthrough'\n",
    "        \n",
    "        # Add Downsampling to the pipeline\n",
    "        downsampling_strategy = sampling_params.get('downsampling_strategy')\n",
    "        \n",
    "        if downsampling_strategy:\n",
    "            if type(downsampling_strategy) is dict:\n",
    "                downsampling_strategy = {k: int(np.floor(v*(1-test_size)*len(X))) for k,v in downsampling_strategy.items()}\n",
    "        \n",
    "            downsampler = RandomUnderSampler(sampling_strategy=downsampling_strategy, random_state=42)\n",
    "        else:\n",
    "            downsampler = 'passthrough'\n",
    "    else:\n",
    "        smote = 'passthrough'\n",
    "        downsampler = 'passthrough'\n",
    "    \n",
    "    # Create preprocessing pipeline\n",
    "    preprocessor = ColumnTransformer(\n",
    "        transformers=[\n",
    "            ('num', num_transformer, num_features),\n",
    "            ('cat', cat_transformer, cat_features),\n",
    "            ('ord', ord_transformer, ord_features),\n",
    "            ('bool', bool_transformer, bool_features),\n",
    "        ])\n",
    "    \n",
    "    # 3-Split data into train-test set\n",
    "    if full_train:\n",
    "        X_train = X\n",
    "        y_train = y\n",
    "    else:\n",
    "        X_train, X_test, y_train, y_test = train_test_split(X, y, test_size=test_size, stratify=y, random_state=42)\n",
    "    \n",
    "    if clf == \"mlp\":\n",
    "        # Fit the preprocessor on the training data to transform the features\n",
    "        preprocessor.fit(X_train)\n",
    "        X_train_transformed = preprocessor.transform(X_train)\n",
    "        # Define MLP classifier\n",
    "        model = KerasClassifier(model=build_fn, \n",
    "                              input_dim=X_train_transformed.shape[1],\n",
    "                              output_dim=n_classes,\n",
    "                              hid_dim=[64, 64],\n",
    "                              learning_rate=0.001,\n",
    "                              epochs=10, \n",
    "                              batch_size=32, \n",
    "                              dropout_rate=0.3, \n",
    "                              verbose=0)\n",
    "    \n",
    "    # 4-Train model\n",
    "    model_pipeline = ImbPipeline(steps=[\n",
    "        ('preprocessor', preprocessor),\n",
    "        ('smote', smote),\n",
    "        ('downsampling', downsampler),\n",
    "        ('clf', model)\n",
    "    ])\n",
    "    \n",
    "    if grid_search and params:\n",
    "        # Optional hyperparameter tuning\n",
    "        grid_search_cv = GridSearchCV(model_pipeline, params, cv=5, scoring=scoring)\n",
    "        print(\"Training model with GridSearchCV..\")\n",
    "        grid_search_cv.fit(X_train, y_train)\n",
    "        # Use the best model from GridSearchCV\n",
    "        model = grid_search_cv.best_estimator_\n",
    "        print(\"Training completed..\")\n",
    "        # Print best hyperparameters\n",
    "        print(\"Best hyperparameters:\\n\", grid_search_cv.best_params_)\n",
    "    else:\n",
    "        print(\"Training model..\")\n",
    "        model_pipeline.fit(X_train, y_train)\n",
    "        model = model_pipeline\n",
    "        print(\"Training completed..\")\n",
    "        \n",
    "    # 5-Test model\n",
    "    \n",
    "    print(\"Model evaluation..\")\n",
    "    print(\"\\nTrain metrics:\")\n",
    "    y_train_pred = model.predict(X_train)\n",
    "    if clf == \"mlp\":\n",
    "        y_train_pred = np.argmax(y_train_pred, axis=1)\n",
    "        y_train = np.argmax(y_train, axis=1)\n",
    "    print(clf == \"mlp\")\n",
    "    evaluate(y_train, y_train_pred)\n",
    "    \n",
    "    if not full_train:\n",
    "        print(\"\\nTest metrics:\")\n",
    "        y_pred = model.predict(X_test)\n",
    "        if clf == \"mlp\":\n",
    "            y_pred = np.argmax(y_pred, axis=1)\n",
    "            y_test = np.argmax(y_test, axis=1)\n",
    "        evaluate(y_test, y_pred)\n",
    "    \n",
    "        print(\"\\nClassification report:\")\n",
    "        print(classification_report(y_test, y_pred))\n",
    "    \n",
    "        if show_cm:\n",
    "            print(\"\\nConfusion matrix:\")\n",
    "            cm = confusion_matrix(y_test, y_pred, normalize='true')\n",
    "            plot_confusion_matrix(cm)\n",
    "    \n",
    "        print(\"Evaluation completed..\")\n",
    "    \n",
    "    # 6-Optional plot feature importance\n",
    "    if include_importance and hasattr(model.named_steps['clf'], 'feature_importances_'):\n",
    "        feature_names = num_features + bool_features + ord_features\n",
    "        # Access the OneHotEncoder to get the feature names after fitting\n",
    "        if isinstance(cat_transformer, OneHotEncoder):\n",
    "            cat_feature_names = model.named_steps['preprocessor'].named_transformers_['cat'].get_feature_names_out(cat_features)\n",
    "            feature_names += list(cat_feature_names)   \n",
    "        importances = model.named_steps['clf'].feature_importances_\n",
    "\n",
    "        if include_importance and importances is not None:\n",
    "            return model, (importances, feature_names)\n",
    "    return model"
   ]
  },
  {
   "cell_type": "markdown",
   "id": "7ca4d0bc-692b-4857-9965-a308cae42036",
   "metadata": {
    "tags": []
   },
   "source": [
    "### Decision Tree (Baseline)"
   ]
  },
  {
   "cell_type": "code",
   "execution_count": 13,
   "id": "2f27e970-ea2d-4d9e-bb24-c6bd5d71fda7",
   "metadata": {},
   "outputs": [],
   "source": [
    "dt_params = {\n",
    "    'clf__criterion': ['entropy'],#['gini', 'entropy'],\n",
    "    'clf__max_depth': [None, 10, 20, 30, 50],\n",
    "    'clf__min_samples_split': [2, 5], #[2, 5, 10, 20],\n",
    "    'clf__min_samples_leaf': [1, 5, 10, 15],\n",
    "    'clf__max_features': [None, 'sqrt'],\n",
    "    'clf__splitter': ['best', 'random'],\n",
    "    'clf__random_state': [42],\n",
    "    'clf__class_weight': ['balanced']\n",
    "}"
   ]
  },
  {
   "cell_type": "code",
   "execution_count": 14,
   "id": "ceb390c4-55a8-4540-b06b-40defd8cd2e7",
   "metadata": {},
   "outputs": [
    {
     "name": "stdout",
     "output_type": "stream",
     "text": [
      "Training model with GridSearchCV..\n",
      "Training completed..\n",
      "Best hyperparameters:\n",
      " {'clf__class_weight': 'balanced', 'clf__criterion': 'entropy', 'clf__max_depth': None, 'clf__max_features': None, 'clf__min_samples_leaf': 1, 'clf__min_samples_split': 2, 'clf__random_state': 42, 'clf__splitter': 'best'}\n",
      "Model evaluation..\n",
      "\n",
      "Train metrics:\n",
      "Accuracy: 0.998, F1 Score: 0.998, Cohen's Kappa: 0.996\n",
      "\n",
      "Test metrics:\n",
      "Accuracy: 0.725, F1 Score: 0.726, Cohen's Kappa: 0.408\n",
      "\n",
      "Classification report:\n",
      "              precision    recall  f1-score   support\n",
      "\n",
      "         0.0       0.22      0.24      0.23       402\n",
      "         1.0       0.80      0.80      0.80     46218\n",
      "         2.0       0.61      0.60      0.61     22021\n",
      "         3.0       0.20      0.21      0.20      1287\n",
      "\n",
      "    accuracy                           0.73     69928\n",
      "   macro avg       0.46      0.46      0.46     69928\n",
      "weighted avg       0.73      0.73      0.73     69928\n",
      "\n",
      "\n",
      "Confusion matrix:\n"
     ]
    },
    {
     "data": {
      "image/png": "[encoded data removed]",
      "text/plain": [
       "<Figure size 288x216 with 1 Axes>"
      ]
     },
     "metadata": {
      "needs_background": "light"
     },
     "output_type": "display_data"
    },
    {
     "name": "stdout",
     "output_type": "stream",
     "text": [
      "Evaluation completed..\n",
      "CPU times: total: 4min 35s\n",
      "Wall time: 5min 5s\n"
     ]
    }
   ],
   "source": [
    "%%time\n",
    "_, feat_importance_dt0 = train_pipeline(clf=DecisionTreeClassifier(), data=df, ignore_vars=None, ordinal_feats=[\"Month\"], \n",
    "                               test_size=0.3, scoring='f1_weighted', \n",
    "                               grid_search=True, params=dt_params,\n",
    "                               show_cm=True, include_importance=True)"
   ]
  },
  {
   "cell_type": "code",
   "execution_count": 15,
   "id": "4bca4135-f95c-4b18-807e-5f90729abebb",
   "metadata": {},
   "outputs": [
    {
     "data": {
      "image/png": "[encoded data removed]",
      "text/plain": [
       "<Figure size 576x360 with 1 Axes>"
      ]
     },
     "metadata": {
      "needs_background": "light"
     },
     "output_type": "display_data"
    }
   ],
   "source": [
    "plot_feat_importance(feat_importance_dt0)"
   ]
  },
  {
   "cell_type": "markdown",
   "id": "4f87fd81-c1b3-46f7-93b2-915692237a93",
   "metadata": {},
   "source": [
    "### XGBoost"
   ]
  },
  {
   "cell_type": "code",
   "execution_count": 74,
   "id": "4e6ff440-8d54-450e-84d3-d9fa6c455d00",
   "metadata": {},
   "outputs": [],
   "source": [
    "xgb_params = {\n",
    "    'clf__n_estimators': [100, 150, 200],\n",
    "    'clf__learning_rate': [0.01, 0.05, 0.1, 0.2],\n",
    "    'clf__max_depth': [3, 4, 5, 6, 10, 15],\n",
    "    'clf__subsample': [0.6, 0.8, 1.0],\n",
    "}"
   ]
  },
  {
   "cell_type": "code",
   "execution_count": 30,
   "id": "fbba003a-92a9-436c-8156-9543bf7c0e81",
   "metadata": {},
   "outputs": [],
   "source": [
    "xgb_clf = xgb.XGBClassifier(device='cuda', tree_method='hist', use_label_encoder=False)"
   ]
  },
  {
   "cell_type": "code",
   "execution_count": 31,
   "id": "c2191866-e1a1-44e7-9638-9c974cd80c01",
   "metadata": {},
   "outputs": [
    {
     "name": "stdout",
     "output_type": "stream",
     "text": [
      "Training model with GridSearchCV..\n",
      "Training completed..\n",
      "Best hyperparameters:\n",
      " {'clf__learning_rate': 0.1, 'clf__max_depth': 10, 'clf__n_estimators': 200, 'clf__subsample': 0.8}\n",
      "Model evaluation..\n",
      "\n",
      "Train metrics:\n",
      "Accuracy: 0.889, F1 Score: 0.887, Cohen's Kappa: 0.754\n",
      "\n",
      "Test metrics:\n",
      "Accuracy: 0.802, F1 Score: 0.795, Cohen's Kappa: 0.557\n",
      "\n",
      "Classification report:\n",
      "              precision    recall  f1-score   support\n",
      "\n",
      "         0.0       0.51      0.16      0.24       402\n",
      "         1.0       0.84      0.88      0.86     46218\n",
      "         2.0       0.73      0.69      0.71     22021\n",
      "         3.0       0.55      0.11      0.18      1287\n",
      "\n",
      "    accuracy                           0.80     69928\n",
      "   macro avg       0.66      0.46      0.50     69928\n",
      "weighted avg       0.79      0.80      0.79     69928\n",
      "\n",
      "\n",
      "Confusion matrix:\n"
     ]
    },
    {
     "data": {
      "image/png": "[encoded data removed]",
      "text/plain": [
       "<Figure size 288x216 with 1 Axes>"
      ]
     },
     "metadata": {
      "needs_background": "light"
     },
     "output_type": "display_data"
    },
    {
     "name": "stdout",
     "output_type": "stream",
     "text": [
      "Evaluation completed..\n",
      "CPU times: total: 28min 11s\n",
      "Wall time: 23min 23s\n"
     ]
    }
   ],
   "source": [
    "%%time\n",
    "_, feat_importance_xgb0 = train_pipeline(clf=xgb_clf, data=df, ignore_vars=None, ordinal_feats=[\"Month\"], \n",
    "                                        test_size=0.3, scoring='f1_weighted', grid_search=True, params=xgb_params, \n",
    "                                        sampling_params=None, show_cm=True, include_importance=True)"
   ]
  },
  {
   "cell_type": "code",
   "execution_count": 32,
   "id": "54c28054-7f54-4977-8dbc-82fdcdcdd83e",
   "metadata": {},
   "outputs": [
    {
     "data": {
      "image/png": "[encoded data removed]",
      "text/plain": [
       "<Figure size 576x360 with 1 Axes>"
      ]
     },
     "metadata": {
      "needs_background": "light"
     },
     "output_type": "display_data"
    }
   ],
   "source": [
    "plot_feat_importance(feat_importance_xgb0)"
   ]
  },
  {
   "cell_type": "markdown",
   "id": "0113c90c-088e-4519-b550-ab5932f142d9",
   "metadata": {},
   "source": [
    "#### Resampling\n",
    "Considering the severe class imbalance in the dataset, we use SMOTE to oversample the minority classes. We may consider two approaches: Class-wise SMOTE and Borderline-SMOTE."
   ]
  },
  {
   "cell_type": "markdown",
   "id": "5866fa64-8a12-4dbd-a933-d6ed0207c401",
   "metadata": {},
   "source": [
    "*Class-wise SMOTE:* Independently oversamples each minority class to a specified level. It is flexible and simple for multiclass imbalances but ay introduce noise by generating synthetic samples in overlapping regions."
   ]
  },
  {
   "cell_type": "code",
   "execution_count": 57,
   "id": "5f607b09-7a3a-4f34-afb8-3472daebd62b",
   "metadata": {},
   "outputs": [],
   "source": [
    "# Class-wise SMOTE\n",
    "sampling_params_xgb = {\n",
    "    \"smote-method\": \"class-wise\",\n",
    "    \"sampling_strategy\": {0: 0.15, 3: 0.15},\n",
    "    \"downsampling_strategy\": {1: 0.5}\n",
    "}"
   ]
  },
  {
   "cell_type": "code",
   "execution_count": 34,
   "id": "b296d9b4-8b97-4c6d-8fe8-e2136b8071ff",
   "metadata": {},
   "outputs": [
    {
     "name": "stdout",
     "output_type": "stream",
     "text": [
      "Resampling with SMOTE..\n",
      "Training model with GridSearchCV..\n",
      "Training completed..\n",
      "Best hyperparameters:\n",
      " {'clf__learning_rate': 0.2, 'clf__max_depth': 10, 'clf__n_estimators': 200, 'clf__subsample': 0.8}\n",
      "Model evaluation..\n",
      "\n",
      "Train metrics:\n",
      "Accuracy: 0.907, F1 Score: 0.908, Cohen's Kappa: 0.803\n",
      "\n",
      "Test metrics:\n",
      "Accuracy: 0.795, F1 Score: 0.794, Cohen's Kappa: 0.561\n",
      "\n",
      "Classification report:\n",
      "              precision    recall  f1-score   support\n",
      "\n",
      "         0.0       0.27      0.29      0.28       402\n",
      "         1.0       0.86      0.84      0.85     46218\n",
      "         2.0       0.69      0.75      0.72     22021\n",
      "         3.0       0.42      0.20      0.27      1287\n",
      "\n",
      "    accuracy                           0.80     69928\n",
      "   macro avg       0.56      0.52      0.53     69928\n",
      "weighted avg       0.80      0.80      0.79     69928\n",
      "\n",
      "\n",
      "Confusion matrix:\n"
     ]
    },
    {
     "data": {
      "image/png": "[encoded data removed]",
      "text/plain": [
       "<Figure size 288x216 with 1 Axes>"
      ]
     },
     "metadata": {
      "needs_background": "light"
     },
     "output_type": "display_data"
    },
    {
     "name": "stdout",
     "output_type": "stream",
     "text": [
      "Evaluation completed..\n",
      "CPU times: total: 38min 21s\n",
      "Wall time: 31min 49s\n"
     ]
    }
   ],
   "source": [
    "%%time\n",
    "_, feat_importance_xgb1 = train_pipeline(clf=xgb_clf, data=df, ignore_vars=None, ordinal_feats=[\"Month\"], \n",
    "                                        test_size=0.3, scoring='f1_weighted', grid_search=True, params=xgb_params, \n",
    "                                        sampling_params=sampling_params_xgb, show_cm=True, include_importance=True)"
   ]
  },
  {
   "cell_type": "markdown",
   "id": "7ed5e89c-a5dc-4877-9ad6-832eb6bfa42c",
   "metadata": {},
   "source": [
    "*Borderline-SMOTE:* Focuses on oversampling near the decision boundary to improve classification in difficult areas. It improves performance by targeting challenging instances but also relies on identifying borderline instances, which can be complex."
   ]
  },
  {
   "cell_type": "code",
   "execution_count": 58,
   "id": "d2ba2d06-538d-4d3e-aeeb-12fb73f2c410",
   "metadata": {},
   "outputs": [],
   "source": [
    "# Borderline-SMOTE\n",
    "sampling_params_xgb = {\n",
    "    \"smote-method\": \"borderline\",\n",
    "    \"sampling_strategy\": {0: 0.15, 3: 0.15},\n",
    "    \"downsampling_strategy\": {1: 0.5}\n",
    "}"
   ]
  },
  {
   "cell_type": "code",
   "execution_count": 36,
   "id": "04ddde27-2e94-4bfe-bc36-41f747e2574f",
   "metadata": {},
   "outputs": [
    {
     "name": "stdout",
     "output_type": "stream",
     "text": [
      "Resampling with SMOTE..\n",
      "Training model with GridSearchCV..\n",
      "Training completed..\n",
      "Best hyperparameters:\n",
      " {'clf__learning_rate': 0.1, 'clf__max_depth': 10, 'clf__n_estimators': 200, 'clf__subsample': 0.8}\n",
      "Model evaluation..\n",
      "\n",
      "Train metrics:\n",
      "Accuracy: 0.865, F1 Score: 0.866, Cohen's Kappa: 0.714\n",
      "\n",
      "Test metrics:\n",
      "Accuracy: 0.794, F1 Score: 0.794, Cohen's Kappa: 0.561\n",
      "\n",
      "Classification report:\n",
      "              precision    recall  f1-score   support\n",
      "\n",
      "         0.0       0.24      0.36      0.29       402\n",
      "         1.0       0.86      0.84      0.85     46218\n",
      "         2.0       0.69      0.75      0.72     22021\n",
      "         3.0       0.38      0.21      0.27      1287\n",
      "\n",
      "    accuracy                           0.79     69928\n",
      "   macro avg       0.54      0.54      0.53     69928\n",
      "weighted avg       0.80      0.79      0.79     69928\n",
      "\n",
      "\n",
      "Confusion matrix:\n"
     ]
    },
    {
     "data": {
      "image/png": "[encoded data removed]",
      "text/plain": [
       "<Figure size 288x216 with 1 Axes>"
      ]
     },
     "metadata": {
      "needs_background": "light"
     },
     "output_type": "display_data"
    },
    {
     "name": "stdout",
     "output_type": "stream",
     "text": [
      "Evaluation completed..\n",
      "CPU times: total: 47min 45s\n",
      "Wall time: 36min 36s\n"
     ]
    }
   ],
   "source": [
    "%%time\n",
    "_, feat_importance_xgb2 = train_pipeline(clf=xgb_clf, data=df, ignore_vars=None, ordinal_feats=[\"Month\"], \n",
    "                                        test_size=0.3, scoring='f1_weighted', grid_search=True, params=xgb_params, \n",
    "                                        sampling_params=sampling_params_xgb, show_cm=True, include_importance=True)"
   ]
  },
  {
   "cell_type": "code",
   "execution_count": 37,
   "id": "462b9783-2744-48f4-ac62-9172f1e51964",
   "metadata": {},
   "outputs": [
    {
     "data": {
      "image/png": "[encoded data removed]",
      "text/plain": [
       "<Figure size 576x360 with 1 Axes>"
      ]
     },
     "metadata": {
      "needs_background": "light"
     },
     "output_type": "display_data"
    }
   ],
   "source": [
    "plot_feat_importance(feat_importance_xgb2)"
   ]
  },
  {
   "cell_type": "markdown",
   "id": "af973826-f3ee-4b0b-95ed-f9f021bce384",
   "metadata": {},
   "source": [
    "### LightGBM"
   ]
  },
  {
   "cell_type": "code",
   "execution_count": 113,
   "id": "b650f3d8-e2d8-4cf8-b3c3-ee90588aacaf",
   "metadata": {},
   "outputs": [],
   "source": [
    "lgbm_params = {\n",
    "    'clf__n_estimators': [100, 150, 200],\n",
    "    'clf__learning_rate': [0.01, 0.05, 0.1],\n",
    "    'clf__min_child_samples': [10, 20, 30],\n",
    "    'clf__min_split_gain': [0.1, 0.2],\n",
    "    'clf__subsample': [1.0],\n",
    "    'clf__colsample_bytree': [0.6, 0.8, 1.0],\n",
    "    'clf__num_leaves': [50, 100, 150],\n",
    "}"
   ]
  },
  {
   "cell_type": "code",
   "execution_count": 110,
   "id": "5737492c-5780-44ce-a121-c6a5a830146a",
   "metadata": {},
   "outputs": [],
   "source": [
    "# Borderline-SMOTE\n",
    "sampling_params_lgbm = {\n",
    "    \"smote-method\": \"borderline\",\n",
    "    \"sampling_strategy\": {0: 0.15, 3: 0.15},\n",
    "    \"downsampling_strategy\": {1: 0.5}\n",
    "}"
   ]
  },
  {
   "cell_type": "code",
   "execution_count": 111,
   "id": "7996955a-b4f5-4b6e-a5d6-f2b5f9756e8b",
   "metadata": {},
   "outputs": [],
   "source": [
    "lgbm_clf = LGBMClassifier(device_type='gpu', verbose=-1)"
   ]
  },
  {
   "cell_type": "code",
   "execution_count": 112,
   "id": "719b75b4-910a-4a3e-8151-784edf153a31",
   "metadata": {},
   "outputs": [
    {
     "name": "stdout",
     "output_type": "stream",
     "text": [
      "Resampling with SMOTE..\n",
      "Training model with GridSearchCV..\n",
      "Training completed..\n",
      "Best hyperparameters:\n",
      " {'clf__colsample_bytree': 0.6, 'clf__learning_rate': 0.1, 'clf__min_child_samples': 20, 'clf__min_split_gain': 0.1, 'clf__n_estimators': 200, 'clf__num_leaves': 150, 'clf__subsample': 1.0}\n",
      "Model evaluation..\n",
      "\n",
      "Train metrics:\n",
      "Accuracy: 0.852, F1 Score: 0.853, Cohen's Kappa: 0.685\n",
      "\n",
      "Test metrics:\n",
      "Accuracy: 0.798, F1 Score: 0.796, Cohen's Kappa: 0.566\n",
      "\n",
      "Classification report:\n",
      "              precision    recall  f1-score   support\n",
      "\n",
      "         0.0       0.37      0.25      0.30       402\n",
      "         1.0       0.86      0.84      0.85     46218\n",
      "         2.0       0.69      0.75      0.72     22021\n",
      "         3.0       0.48      0.19      0.27      1287\n",
      "\n",
      "    accuracy                           0.80     69928\n",
      "   macro avg       0.60      0.51      0.53     69928\n",
      "weighted avg       0.80      0.80      0.80     69928\n",
      "\n",
      "\n",
      "Confusion matrix:\n"
     ]
    },
    {
     "data": {
      "image/png": "[encoded data removed]",
      "text/plain": [
       "<Figure size 288x216 with 1 Axes>"
      ]
     },
     "metadata": {
      "needs_background": "light"
     },
     "output_type": "display_data"
    },
    {
     "name": "stdout",
     "output_type": "stream",
     "text": [
      "Evaluation completed..\n",
      "CPU times: total: 44min 23s\n",
      "Wall time: 7min 39s\n"
     ]
    }
   ],
   "source": [
    "%%time\n",
    "_, feat_importance_lgbm = train_pipeline(clf=lgbm_clf, data=df, ignore_vars=None, ordinal_feats=[\"Month\"], \n",
    "                                        test_size=0.3, scoring='f1_weighted', grid_search=True, params=lgbm_params, \n",
    "                                        sampling_params=sampling_params_lgbm, show_cm=True, include_importance=True)"
   ]
  },
  {
   "cell_type": "markdown",
   "id": "70112ba3-726d-4472-9740-3ad2450bb334",
   "metadata": {},
   "source": [
    "### Neural Network (MLP)"
   ]
  },
  {
   "cell_type": "code",
   "execution_count": 13,
   "id": "39ec6cd5-b315-4f00-abcc-054daf69dcc3",
   "metadata": {},
   "outputs": [],
   "source": [
    "def create_mlp_model(input_dim, output_dim, learning_rate=0.001, hid_dim=[128, 64], dropout_rate=0.3):\n",
    "    model = Sequential()\n",
    "    # Input layer and first hidden layer\n",
    "    model.add(Input(shape=(input_dim,)))  # Keep this as the input layer\n",
    "    model.add(Dense(hid_dim[0], activation='relu'))\n",
    "    model.add(Dropout(dropout_rate))\n",
    "    # Second hidden layer\n",
    "    model.add(Dense(hid_dim[1], activation='relu'))\n",
    "    model.add(Dropout(dropout_rate))\n",
    "    # Output layer (assuming multi-class classification)\n",
    "    model.add(Dense(output_dim, activation='softmax'))\n",
    "    \n",
    "    # Compile the model\n",
    "    model.compile(loss='categorical_crossentropy', optimizer='adam', metrics=['accuracy'])  # Use built-in accuracy instead of f1\n",
    "    return model"
   ]
  },
  {
   "cell_type": "code",
   "execution_count": 20,
   "id": "d02ed891-0f03-4030-a660-8a17c66f4066",
   "metadata": {},
   "outputs": [],
   "source": [
    "mlp_params = {\n",
    "    'clf__hid_dim': [[256, 128]],#[[128, 64], [128, 128], [256, 128], [256, 256]],\n",
    "    'clf__dropout_rate': [0.2],#[0.2, 0.4, 0.6],\n",
    "    'clf__learning_rate': [0.0001],#[0.0001, 0.001, 0.01],\n",
    "    'clf__batch_size': [16],#[16, 32],\n",
    "    'clf__epochs': [100],\n",
    "}"
   ]
  },
  {
   "cell_type": "code",
   "execution_count": 21,
   "id": "9e6a600c-4680-48b3-bbf6-2b46a697e94e",
   "metadata": {},
   "outputs": [],
   "source": [
    "# Borderline-SMOTE\n",
    "sampling_params_mlp = {\n",
    "    \"smote-method\": \"borderline\",\n",
    "    \"sampling_strategy\": {0: 0.15, 3: 0.15},\n",
    "    \"downsampling_strategy\": {1: 0.5}\n",
    "}"
   ]
  },
  {
   "cell_type": "code",
   "execution_count": 23,
   "id": "81c95253-533d-45c5-b624-7b6d6869bec5",
   "metadata": {},
   "outputs": [
    {
     "name": "stdout",
     "output_type": "stream",
     "text": [
      "Resampling with SMOTE..\n",
      "Training model with GridSearchCV..\n",
      "Training completed..\n",
      "Best hyperparameters:\n",
      " {'clf__batch_size': 16, 'clf__dropout_rate': 0.2, 'clf__epochs': 100, 'clf__hid_dim': [256, 128], 'clf__learning_rate': 0.0001}\n",
      "Model evaluation..\n",
      "\n",
      "Train metrics:\n",
      "True\n",
      "Accuracy: 0.757, F1 Score: 0.761, Cohen's Kappa: 0.488\n",
      "\n",
      "Test metrics:\n",
      "Accuracy: 0.735, F1 Score: 0.741, Cohen's Kappa: 0.441\n",
      "\n",
      "Classification report:\n",
      "              precision    recall  f1-score   support\n",
      "\n",
      "           0       0.12      0.39      0.18       402\n",
      "           1       0.82      0.80      0.81     46218\n",
      "           2       0.65      0.63      0.64     22021\n",
      "           3       0.15      0.25      0.19      1287\n",
      "\n",
      "    accuracy                           0.74     69928\n",
      "   macro avg       0.44      0.52      0.46     69928\n",
      "weighted avg       0.75      0.74      0.74     69928\n",
      "\n",
      "\n",
      "Confusion matrix:\n"
     ]
    },
    {
     "data": {
      "image/png": "[encoded data removed]",
      "text/plain": [
       "<Figure size 288x216 with 1 Axes>"
      ]
     },
     "metadata": {
      "needs_background": "light"
     },
     "output_type": "display_data"
    },
    {
     "name": "stdout",
     "output_type": "stream",
     "text": [
      "Evaluation completed..\n",
      "CPU times: total: 17min 35s\n",
      "Wall time: 2h 16min 58s\n"
     ]
    }
   ],
   "source": [
    "%%time\n",
    "_ = train_pipeline(clf=\"mlp\", build_fn=create_mlp_model, data=df, ignore_vars=None, ordinal_feats=[\"Month\"], \n",
    "                                        test_size=0.3, scoring='f1_weighted', grid_search=True, params=mlp_params,\n",
    "                                        sampling_params=sampling_params_mlp, show_cm=True, include_importance=True)"
   ]
  },
  {
   "cell_type": "code",
   "execution_count": 19,
   "id": "6d95afec-53c5-46fb-a588-f419f3c26de9",
   "metadata": {},
   "outputs": [
    {
     "name": "stdout",
     "output_type": "stream",
     "text": [
      "Resampling with SMOTE..\n",
      "Training model with GridSearchCV..\n",
      "Training completed..\n",
      "Best hyperparameters:\n",
      " {'clf__batch_size': 16, 'clf__dropout_rate': 0.2, 'clf__epochs': 50, 'clf__hid_dim': [256, 256], 'clf__learning_rate': 0.0001}\n",
      "Model evaluation..\n",
      "\n",
      "Train metrics:\n",
      "True\n",
      "Accuracy: 0.755, F1 Score: 0.761, Cohen's Kappa: 0.489\n",
      "\n",
      "Test metrics:\n",
      "Accuracy: 0.733, F1 Score: 0.741, Cohen's Kappa: 0.443\n",
      "\n",
      "Classification report:\n",
      "              precision    recall  f1-score   support\n",
      "\n",
      "           0       0.12      0.37      0.19       402\n",
      "           1       0.82      0.79      0.81     46218\n",
      "           2       0.65      0.64      0.64     22021\n",
      "           3       0.16      0.29      0.21      1287\n",
      "\n",
      "    accuracy                           0.73     69928\n",
      "   macro avg       0.44      0.52      0.46     69928\n",
      "weighted avg       0.75      0.73      0.74     69928\n",
      "\n",
      "\n",
      "Confusion matrix:\n"
     ]
    },
    {
     "data": {
      "image/png": "[encoded data removed]",
      "text/plain": [
       "<Figure size 288x216 with 1 Axes>"
      ]
     },
     "metadata": {
      "needs_background": "light"
     },
     "output_type": "display_data"
    },
    {
     "name": "stdout",
     "output_type": "stream",
     "text": [
      "Evaluation completed..\n",
      "CPU times: total: 30min 35s\n",
      "Wall time: 2h 37min 38s\n"
     ]
    }
   ],
   "source": [
    "%%time\n",
    "_ = train_pipeline(clf=\"mlp\", build_fn=create_mlp_model, data=df, ignore_vars=None, ordinal_feats=[\"Month\"], \n",
    "                                        test_size=0.3, scoring='f1_weighted', grid_search=True, params=mlp_params,\n",
    "                                        sampling_params=sampling_params_mlp, show_cm=True, include_importance=True)"
   ]
  },
  {
   "cell_type": "markdown",
   "id": "7f6f7d5a-315e-448a-89e1-57f319161e2f",
   "metadata": {},
   "source": [
    "## Train best model with full dataset"
   ]
  },
  {
   "cell_type": "code",
   "execution_count": 43,
   "id": "a600cc36-c546-4937-9733-1eaccb1b6d9f",
   "metadata": {},
   "outputs": [],
   "source": [
    "from datetime import datetime\n",
    "import joblib"
   ]
  },
  {
   "cell_type": "code",
   "execution_count": 68,
   "id": "7d9e8bf8-0759-482c-a830-8b530a72418e",
   "metadata": {},
   "outputs": [],
   "source": [
    "params = {\n",
    "    'learning_rate': 0.1, \n",
    "    'max_depth': 10, \n",
    "    'n_estimators': 200, \n",
    "    'subsample': 0.8, \n",
    "    'use_label_encoder': False, \n",
    "    'device': 'cuda', \n",
    "    'tree_method': 'hist'\n",
    "}"
   ]
  },
  {
   "cell_type": "code",
   "execution_count": 69,
   "id": "55adbbfb-6421-4668-b212-b9fe66986787",
   "metadata": {},
   "outputs": [],
   "source": [
    "sampling_params = {\n",
    "    \"smote-method\": \"borderline\",\n",
    "    \"sampling_strategy\": {0: 0.15, 3: 0.15},\n",
    "    \"downsampling_strategy\": {1: 0.5}\n",
    "}"
   ]
  },
  {
   "cell_type": "code",
   "execution_count": 70,
   "id": "5ac81016-f90e-486f-b750-0c054c62a03f",
   "metadata": {},
   "outputs": [],
   "source": [
    "clf = xgb.XGBClassifier(**params)"
   ]
  },
  {
   "cell_type": "code",
   "execution_count": 71,
   "id": "2ed4930a-3071-47a6-9d14-53994558e645",
   "metadata": {},
   "outputs": [
    {
     "name": "stdout",
     "output_type": "stream",
     "text": [
      "Resampling with SMOTE..\n",
      "Training model..\n",
      "Training completed..\n",
      "Model evaluation..\n",
      "\n",
      "Train metrics:\n",
      "Accuracy: 0.793, F1 Score: 0.796, Cohen's Kappa: 0.565\n",
      "CPU times: total: 17.5 s\n",
      "Wall time: 4.04 s\n"
     ]
    }
   ],
   "source": [
    "%%time\n",
    "pipeline = train_pipeline(clf=xgb_clf, data=df, ignore_vars=None, ordinal_feats=[\"Month\"], test_size=0.0, \n",
    "                             scoring='f1_weighted', grid_search=False, sampling_params=sampling_params, \n",
    "                             show_cm=False, include_importance=False, full_train=True)"
   ]
  },
  {
   "cell_type": "code",
   "execution_count": 72,
   "id": "cf9c8cf1-6e7a-4ad5-bc73-4d8426bd328f",
   "metadata": {},
   "outputs": [],
   "source": [
    "trained_model = pipeline.named_steps['clf']\n",
    "preprocessor = pipeline.named_steps['preprocessor']"
   ]
  },
  {
   "cell_type": "code",
   "execution_count": 73,
   "id": "6690c763-b515-4472-a1da-c12fa47d638d",
   "metadata": {},
   "outputs": [
    {
     "name": "stdout",
     "output_type": "stream",
     "text": [
      "20241001_144429\n"
     ]
    }
   ],
   "source": [
    "# Get current timestamp\n",
    "timestamp = \"20241001_144429\"#datetime.now().strftime('%Y%m%d_%H%M%S')\n",
    "# Save the trained pipeline\n",
    "joblib.dump(trained_model, f'models/xgb_model_{timestamp}.pkl')\n",
    "joblib.dump(preprocessor, f'models/xgb_preprocessor_{timestamp}.pkl')\n",
    "print(timestamp)"
   ]
  },
  {
   "cell_type": "code",
   "execution_count": null,
   "id": "64b26a71-21cf-443e-9f40-151899178c41",
   "metadata": {},
   "outputs": [],
   "source": []
  }
 ],
 "metadata": {
  "kernelspec": {
   "display_name": "dl-env",
   "language": "python",
   "name": "dl-env"
  },
  "language_info": {
   "codemirror_mode": {
    "name": "ipython",
    "version": 3
   },
   "file_extension": ".py",
   "mimetype": "text/x-python",
   "name": "python",
   "nbconvert_exporter": "python",
   "pygments_lexer": "ipython3",
   "version": "3.9.19"
  }
 },
 "nbformat": 4,
 "nbformat_minor": 5
}
