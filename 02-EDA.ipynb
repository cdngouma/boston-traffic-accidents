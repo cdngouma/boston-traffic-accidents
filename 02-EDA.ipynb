{
 "cells": [
  {
   "cell_type": "code",
   "execution_count": 1,
   "id": "9c25d537-99cf-42d3-9f41-a0754d1b9243",
   "metadata": {},
   "outputs": [],
   "source": [
    "import pandas as pd\n",
    "import numpy as np\n",
    "import matplotlib.pyplot as plt\n",
    "import seaborn as sns\n",
    "import re\n",
    "import json"
   ]
  },
  {
   "cell_type": "markdown",
   "id": "bf8e0461-8a67-43cd-8f7a-ba06525697c9",
   "metadata": {},
   "source": [
    "## Load dataset"
   ]
  },
  {
   "cell_type": "code",
   "execution_count": 2,
   "id": "b81f791b-7f33-473a-bd08-0608ddcd8936",
   "metadata": {},
   "outputs": [
    {
     "data": {
      "text/plain": [
       "(232687, 40)"
      ]
     },
     "execution_count": 2,
     "metadata": {},
     "output_type": "execute_result"
    }
   ],
   "source": [
    "df = pd.read_csv(\"data/data_clean.csv\")\n",
    "df.shape"
   ]
  },
  {
   "cell_type": "code",
   "execution_count": 3,
   "id": "616200cd-f0aa-4496-b28e-13283b739e05",
   "metadata": {},
   "outputs": [
    {
     "data": {
      "text/html": [
       "<div>\n",
       "<style scoped>\n",
       "    .dataframe tbody tr th:only-of-type {\n",
       "        vertical-align: middle;\n",
       "    }\n",
       "\n",
       "    .dataframe tbody tr th {\n",
       "        vertical-align: top;\n",
       "    }\n",
       "\n",
       "    .dataframe thead th {\n",
       "        text-align: right;\n",
       "    }\n",
       "</style>\n",
       "<table border=\"1\" class=\"dataframe\">\n",
       "  <thead>\n",
       "    <tr style=\"text-align: right;\">\n",
       "      <th></th>\n",
       "      <th>Severity</th>\n",
       "      <th>Start_Time</th>\n",
       "      <th>End_Time</th>\n",
       "      <th>Start_Lat</th>\n",
       "      <th>Start_Lng</th>\n",
       "      <th>Distance(mi)</th>\n",
       "      <th>Street</th>\n",
       "      <th>City</th>\n",
       "      <th>County</th>\n",
       "      <th>State</th>\n",
       "      <th>...</th>\n",
       "      <th>Sunrise_Sunset</th>\n",
       "      <th>Is_Highway</th>\n",
       "      <th>Duration(min)</th>\n",
       "      <th>Date</th>\n",
       "      <th>Hour</th>\n",
       "      <th>Day_of_Week</th>\n",
       "      <th>Is_Weekend</th>\n",
       "      <th>Month</th>\n",
       "      <th>Year</th>\n",
       "      <th>Is_Night</th>\n",
       "    </tr>\n",
       "  </thead>\n",
       "  <tbody>\n",
       "    <tr>\n",
       "      <th>0</th>\n",
       "      <td>3</td>\n",
       "      <td>2016-02-11 05:32:29</td>\n",
       "      <td>2016-02-11 06:02:29</td>\n",
       "      <td>41.422199</td>\n",
       "      <td>-81.843018</td>\n",
       "      <td>0.01</td>\n",
       "      <td>Grayton Rd</td>\n",
       "      <td>Cleveland</td>\n",
       "      <td>Cuyahoga</td>\n",
       "      <td>OH</td>\n",
       "      <td>...</td>\n",
       "      <td>Night</td>\n",
       "      <td>False</td>\n",
       "      <td>30.000000</td>\n",
       "      <td>2016-02-11</td>\n",
       "      <td>5</td>\n",
       "      <td>4</td>\n",
       "      <td>False</td>\n",
       "      <td>2</td>\n",
       "      <td>2016</td>\n",
       "      <td>True</td>\n",
       "    </tr>\n",
       "    <tr>\n",
       "      <th>1</th>\n",
       "      <td>3</td>\n",
       "      <td>2016-02-11 06:29:00</td>\n",
       "      <td>2016-02-11 21:00:00</td>\n",
       "      <td>41.420818</td>\n",
       "      <td>-81.694008</td>\n",
       "      <td>0.01</td>\n",
       "      <td>I-480 E</td>\n",
       "      <td>Cleveland</td>\n",
       "      <td>Cuyahoga</td>\n",
       "      <td>OH</td>\n",
       "      <td>...</td>\n",
       "      <td>Night</td>\n",
       "      <td>True</td>\n",
       "      <td>871.000000</td>\n",
       "      <td>2016-02-11</td>\n",
       "      <td>6</td>\n",
       "      <td>4</td>\n",
       "      <td>False</td>\n",
       "      <td>2</td>\n",
       "      <td>2016</td>\n",
       "      <td>True</td>\n",
       "    </tr>\n",
       "    <tr>\n",
       "      <th>2</th>\n",
       "      <td>3</td>\n",
       "      <td>2016-02-11 07:29:06</td>\n",
       "      <td>2016-02-11 08:18:10</td>\n",
       "      <td>41.355396</td>\n",
       "      <td>-81.819267</td>\n",
       "      <td>0.01</td>\n",
       "      <td>I-71 S</td>\n",
       "      <td>Cleveland</td>\n",
       "      <td>Cuyahoga</td>\n",
       "      <td>OH</td>\n",
       "      <td>...</td>\n",
       "      <td>Day</td>\n",
       "      <td>True</td>\n",
       "      <td>49.066667</td>\n",
       "      <td>2016-02-11</td>\n",
       "      <td>7</td>\n",
       "      <td>4</td>\n",
       "      <td>False</td>\n",
       "      <td>2</td>\n",
       "      <td>2016</td>\n",
       "      <td>False</td>\n",
       "    </tr>\n",
       "    <tr>\n",
       "      <th>3</th>\n",
       "      <td>2</td>\n",
       "      <td>2016-02-15 07:37:49</td>\n",
       "      <td>2016-02-15 08:07:49</td>\n",
       "      <td>41.410461</td>\n",
       "      <td>-81.725853</td>\n",
       "      <td>0.00</td>\n",
       "      <td>Westlake Ave</td>\n",
       "      <td>Cleveland</td>\n",
       "      <td>Cuyahoga</td>\n",
       "      <td>OH</td>\n",
       "      <td>...</td>\n",
       "      <td>Day</td>\n",
       "      <td>False</td>\n",
       "      <td>30.000000</td>\n",
       "      <td>2016-02-15</td>\n",
       "      <td>7</td>\n",
       "      <td>1</td>\n",
       "      <td>False</td>\n",
       "      <td>2</td>\n",
       "      <td>2016</td>\n",
       "      <td>False</td>\n",
       "    </tr>\n",
       "    <tr>\n",
       "      <th>4</th>\n",
       "      <td>2</td>\n",
       "      <td>2016-02-18 06:27:59</td>\n",
       "      <td>2016-02-18 06:57:59</td>\n",
       "      <td>41.414131</td>\n",
       "      <td>-81.632141</td>\n",
       "      <td>0.01</td>\n",
       "      <td>Granger Rd</td>\n",
       "      <td>Cleveland</td>\n",
       "      <td>Cuyahoga</td>\n",
       "      <td>OH</td>\n",
       "      <td>...</td>\n",
       "      <td>Night</td>\n",
       "      <td>False</td>\n",
       "      <td>30.000000</td>\n",
       "      <td>2016-02-18</td>\n",
       "      <td>6</td>\n",
       "      <td>4</td>\n",
       "      <td>False</td>\n",
       "      <td>2</td>\n",
       "      <td>2016</td>\n",
       "      <td>True</td>\n",
       "    </tr>\n",
       "  </tbody>\n",
       "</table>\n",
       "<p>5 rows × 40 columns</p>\n",
       "</div>"
      ],
      "text/plain": [
       "   Severity           Start_Time             End_Time  Start_Lat  Start_Lng  \\\n",
       "0         3  2016-02-11 05:32:29  2016-02-11 06:02:29  41.422199 -81.843018   \n",
       "1         3  2016-02-11 06:29:00  2016-02-11 21:00:00  41.420818 -81.694008   \n",
       "2         3  2016-02-11 07:29:06  2016-02-11 08:18:10  41.355396 -81.819267   \n",
       "3         2  2016-02-15 07:37:49  2016-02-15 08:07:49  41.410461 -81.725853   \n",
       "4         2  2016-02-18 06:27:59  2016-02-18 06:57:59  41.414131 -81.632141   \n",
       "\n",
       "   Distance(mi)        Street       City    County State  ...  Sunrise_Sunset  \\\n",
       "0          0.01    Grayton Rd  Cleveland  Cuyahoga    OH  ...           Night   \n",
       "1          0.01       I-480 E  Cleveland  Cuyahoga    OH  ...           Night   \n",
       "2          0.01        I-71 S  Cleveland  Cuyahoga    OH  ...             Day   \n",
       "3          0.00  Westlake Ave  Cleveland  Cuyahoga    OH  ...             Day   \n",
       "4          0.01    Granger Rd  Cleveland  Cuyahoga    OH  ...           Night   \n",
       "\n",
       "   Is_Highway  Duration(min)        Date  Hour  Day_of_Week Is_Weekend  Month  \\\n",
       "0       False      30.000000  2016-02-11     5            4      False      2   \n",
       "1        True     871.000000  2016-02-11     6            4      False      2   \n",
       "2        True      49.066667  2016-02-11     7            4      False      2   \n",
       "3       False      30.000000  2016-02-15     7            1      False      2   \n",
       "4       False      30.000000  2016-02-18     6            4      False      2   \n",
       "\n",
       "   Year  Is_Night  \n",
       "0  2016      True  \n",
       "1  2016      True  \n",
       "2  2016     False  \n",
       "3  2016     False  \n",
       "4  2016      True  \n",
       "\n",
       "[5 rows x 40 columns]"
      ]
     },
     "execution_count": 3,
     "metadata": {},
     "output_type": "execute_result"
    }
   ],
   "source": [
    "df.head()"
   ]
  },
  {
   "cell_type": "markdown",
   "id": "a1f58854-83d7-468a-a058-209363efc6b4",
   "metadata": {},
   "source": [
    "## Exploratory data analysis"
   ]
  },
  {
   "cell_type": "markdown",
   "id": "939f6d52-c228-4342-b54c-eab3a6d33b0f",
   "metadata": {},
   "source": [
    "#### Summary of Insights\n",
    "1. Dominance of Severity Level 2: The dataset is heavily skewed towards severity level 2, comprising a significant majority of incidents. This imbalance may influence model predictions and accuracy, requiring careful handling of the dataset to avoid bias.\n",
    "2. Impact of Weather Conditions:\n",
    "    * *Dry Weather:* While the majority of accidents occur under dry conditions, they tend to result in moderate severity levels (2 and 3). This suggests that even in seemingly safe conditions, accidents can still be severe.\n",
    "    * *Snowy Conditions:* Snow significantly increases the likelihood of severe accidents, indicating that adverse weather conditions should be prioritized in safety measures.\n",
    "    * *Wet Conditions:* Though wet conditions account for fewer accidents, they still pose a substantial risk for higher severity levels.\n",
    "3. Temporal Factors:\n",
    "    * *Peak Hours:* Accidents peak during morning and evening rush hours, highlighting the importance of traffic density in predicting accident severity.\n",
    "    * *Day and Month Patterns:* Weekday and winter month trends indicate that specific temporal factors contribute to increased accident rates and severities.\n",
    "4. Numerical Variables:\n",
    "    * *Distance and Duration:* Most accidents affect short road distances, suggesting minor incidents, while longer durations may correlate with more severe accidents, particularly when cleanup is prolonged.\n",
    "    * *Weather Influences:* Variations in atmospheric pressure and wind speed correlate with severity, emphasizing the need for weather-related predictors in the model.\n",
    "5. Boolean and Categorical Variables:\n",
    "    * Features like highway presence, junctions, and traffic signals play significant roles in predicting severity. Absence of safety features often correlates with higher severity."
   ]
  },
  {
   "cell_type": "markdown",
   "id": "2b638bd9-3988-40b0-8998-f53006432fdf",
   "metadata": {},
   "source": [
    "### 1. Univariate analysis"
   ]
  },
  {
   "cell_type": "markdown",
   "id": "a2718bc0-9b5b-41f7-89de-ccd399073473",
   "metadata": {},
   "source": [
    "#### 1.1. Dependent variable (`Severity`)\n",
    "Accident of severity level 2 significantly dominate the dataset. About 66% of all recorded accidents had a severity level 2. Meanwhile accidents of serverity level 1 are the rarest, followed by level 4."
   ]
  },
  {
   "cell_type": "code",
   "execution_count": 4,
   "id": "6cf71936-a7d0-47ac-8900-7792f590714c",
   "metadata": {},
   "outputs": [
    {
     "data": {
      "text/plain": [
       "2    0.660338\n",
       "3    0.315458\n",
       "4    0.018441\n",
       "1    0.005763\n",
       "Name: Severity, dtype: float64"
      ]
     },
     "execution_count": 4,
     "metadata": {},
     "output_type": "execute_result"
    }
   ],
   "source": [
    "df[\"Severity\"].value_counts() / len(df)"
   ]
  },
  {
   "cell_type": "markdown",
   "id": "c1b31b98-cb8f-4da7-8cf2-cd85b12f3b99",
   "metadata": {},
   "source": [
    "#### 1.2. Numerical variables\n",
    "* *Distance Affected:* A large number of accidents affect very short road distances (median is 0.83 miles), suggesting many are minor or localized events.\n",
    "* *Duration:* The median accident duration is around 58 minutes, with a maximum of 24 hours (manual cut-off), showing that most accidents are cleared quickly, though some are severe enough to require extensive time for cleanup.\n",
    "* *Weather:* Accidents happen across extreme weather conditions, with temperatures ranging from -29°F to 101°F and various humidity and wind conditions, indicating diverse environmental factors at play.\n",
    "* *Peak Accident Hours:* Accidents peak between 7 AM and 8 AM, with another surge around 4 PM to 5 PM. This reflects typical commuting times, indicating that a large proportion of accidents occur during rush hours when traffic density is highest.\n",
    "* *Days of the Week:* The majority of accidents happen from Monday to Friday, with Friday having the highest accident count. Fewer accidents are recorded over the weekend, especially on Sunday, suggesting a direct correlation with weekday commuting and work-related travel.\n",
    "* *Months:* Accident frequencies are highest in the winter months of December, January, and February, likely due to hazardous weather conditions such as snow and ice. Accident counts drop slightly in the summer but remain significant year-round."
   ]
  },
  {
   "cell_type": "code",
   "execution_count": 5,
   "id": "7becfd6a-2295-4053-b50b-443bc5993071",
   "metadata": {},
   "outputs": [],
   "source": [
    "numerical_vars = df.select_dtypes(include=['number']).columns.tolist()"
   ]
  },
  {
   "cell_type": "markdown",
   "id": "92967e73-408c-4fdf-aa1e-c75ef778cd41",
   "metadata": {},
   "source": [
    "Considering our goals, certain variables may be irrelevant. For instance, since we are building a predictive model of the city of Montreal using US data, any location-related variable (e.g. coordinates) would be ignored. In addition, the Year may also be ignored as we have data covering a 7-years period."
   ]
  },
  {
   "cell_type": "code",
   "execution_count": 6,
   "id": "34d4771a-d764-4fcc-b4f1-9fe1c3f52f87",
   "metadata": {},
   "outputs": [],
   "source": [
    "for col in [\"Start_Lat\", \"Start_Lng\", \"Year\"]:\n",
    "    if col in numerical_vars:\n",
    "        numerical_vars.remove(col)"
   ]
  },
  {
   "cell_type": "code",
   "execution_count": 7,
   "id": "94e88f55-7773-4808-9a65-b8bbb582cce8",
   "metadata": {},
   "outputs": [
    {
     "data": {
      "image/png": "[encoded data removed]",
      "text/plain": [
       "<Figure size 864x432 with 12 Axes>"
      ]
     },
     "metadata": {
      "needs_background": "light"
     },
     "output_type": "display_data"
    }
   ],
   "source": [
    "# Set up the subplots\n",
    "fig, axes = plt.subplots(3, 4, figsize=(12, 6))\n",
    "axes = axes.flatten()\n",
    "# Create a box plot for each variable\n",
    "for i,var in enumerate(numerical_vars):\n",
    "    sns.histplot(data=df, x=var, ax=axes[i], bins=25)\n",
    "    axes[i].set_title(f'Distribution of accidents by\\n {var}', fontsize=12)\n",
    "    axes[i].set_ylabel('Count')\n",
    "    axes[i].set_xlabel(var)\n",
    "plt.tight_layout()\n",
    "plt.show()"
   ]
  },
  {
   "cell_type": "markdown",
   "id": "4878ebab-7b4a-48dd-9061-9f015f36a6f1",
   "metadata": {},
   "source": [
    "#### 1.3. Boolean variables\n",
    "* *Highway Accidents:* A substantial number of accidents occur on highways, emphasizing the increased risk associated with higher-speed roads.\n",
    "* *Crossings and Traffic Signals:* Accidents near crossings and traffic signals are frequent, highlighting high-risk areas for both vehicles and pedestrians.\n",
    "* *Night and Weekend Accidents:* 32% of accidents happen during the night, indicating riskier times for accidents due to low visibility.\n",
    "* *Junctions and Stations:* Accidents are fairly common near junctions and stations, which are high-traffic zones where vehicles and pedestrians converge.\n",
    "\n",
    "Overall, most accidents occurred when the boolean values are False (e.g., no amenity, no bump, no railway, etc.) suggests that many accidents happen in areas without these specific traffic features or control measures. This could imply that:\n",
    "1. Traffic features like signals, junctions, bumps, and crossings may help reduce accidents by regulating traffic or alerting drivers.\n",
    "2. The lack of physical traffic calming features may not reduce driver speeds or behavior, potentially increasing accident risks, especially in less regulated or monitored areas.\n",
    "3. Since a significant proportion of accidents happen on highways (where features like crossings, bumps, and junctions are less common), it makes sense that the boolean values for these are often false in those scenarios."
   ]
  },
  {
   "cell_type": "code",
   "execution_count": 8,
   "id": "aa656fd3-5467-4de6-91b9-b3b694e476c7",
   "metadata": {},
   "outputs": [],
   "source": [
    "boolean_vars = df.select_dtypes(include=['bool']).columns.tolist()"
   ]
  },
  {
   "cell_type": "code",
   "execution_count": 9,
   "id": "f9aa1902-c13d-4597-bf96-0d8cf554ae4a",
   "metadata": {},
   "outputs": [
    {
     "data": {
      "image/png": "[encoded data removed]",
      "text/plain": [
       "<Figure size 864x432 with 16 Axes>"
      ]
     },
     "metadata": {
      "needs_background": "light"
     },
     "output_type": "display_data"
    }
   ],
   "source": [
    "# Set up the subplots\n",
    "fig, axes = plt.subplots(3, 6, figsize=(12, 6))\n",
    "axes = axes.flatten()\n",
    "# Create a box plot for each variable\n",
    "for i,var in enumerate(boolean_vars):\n",
    "    sns.countplot(data=df, x=var, ax=axes[i])\n",
    "    axes[i].set_title(f'Accidents by\\n {var}', fontsize=12)\n",
    "    axes[i].set_ylabel('Count')\n",
    "    axes[i].set_xlabel(var)\n",
    "# Hide unused subplots\n",
    "for ax in axes[len(boolean_vars):]:\n",
    "    ax.remove()\n",
    "plt.tight_layout()\n",
    "plt.show()"
   ]
  },
  {
   "cell_type": "markdown",
   "id": "19445690-b4d3-43ea-9b25-e8668bb2a704",
   "metadata": {},
   "source": [
    "Some of the boolean variables are very imbalanced, which might affect how informative the variable is for predicting the target."
   ]
  },
  {
   "cell_type": "code",
   "execution_count": 10,
   "id": "f159d9e0-18e1-472a-a6a7-27e31e1a336c",
   "metadata": {},
   "outputs": [],
   "source": [
    "high_imbalance_vars = []\n",
    "for var in boolean_vars:\n",
    "    proportions = df[var].value_counts() / len(df)\n",
    "    if len(proportions.index) != 2 or np.abs(proportions[False] - proportions[True]) > 0.7:\n",
    "        high_imbalance_vars.append(var)"
   ]
  },
  {
   "cell_type": "code",
   "execution_count": 11,
   "id": "760b9f14-8b1a-4801-b464-29186b37f415",
   "metadata": {},
   "outputs": [
    {
     "data": {
      "text/plain": [
       "['Amenity',\n",
       " 'Bump',\n",
       " 'Give_Way',\n",
       " 'Junction',\n",
       " 'No_Exit',\n",
       " 'Railway',\n",
       " 'Roundabout',\n",
       " 'Station',\n",
       " 'Stop',\n",
       " 'Traffic_Calming',\n",
       " 'Turning_Loop',\n",
       " 'Is_Weekend']"
      ]
     },
     "execution_count": 11,
     "metadata": {},
     "output_type": "execute_result"
    }
   ],
   "source": [
    "high_imbalance_vars"
   ]
  },
  {
   "cell_type": "markdown",
   "id": "a8b9ebfd-997b-4114-8dc3-cfc17f058698",
   "metadata": {},
   "source": [
    "We may discard these variables except for Is_Weekend which may hold some useful information."
   ]
  },
  {
   "cell_type": "code",
   "execution_count": 12,
   "id": "bebf314a-65b8-4c52-9ace-c36a8b3238c3",
   "metadata": {},
   "outputs": [],
   "source": [
    "high_imbalance_vars.remove(\"Is_Weekend\")"
   ]
  },
  {
   "cell_type": "code",
   "execution_count": 13,
   "id": "2e18b45d-05f4-420a-a73e-cd8eed99cfcc",
   "metadata": {},
   "outputs": [],
   "source": [
    "for c in high_imbalance_vars:\n",
    "    if c in boolean_vars:\n",
    "        boolean_vars.remove(c)"
   ]
  },
  {
   "cell_type": "markdown",
   "id": "46ad30d6-6715-4ca8-9e7f-14c1eb4d8177",
   "metadata": {
    "tags": []
   },
   "source": [
    "#### 1.4. Categorical variables\n",
    "The majority of traffic accidents (82%) occur under dry weather conditions, but significant risks remain during wet (10%) and snowy (7.4%) conditions, highlighting the need for targeted safety measures during adverse weather while also addressing contributing factors in dry conditions."
   ]
  },
  {
   "cell_type": "code",
   "execution_count": 14,
   "id": "471b0eeb-2fd2-41ea-88c8-15216ccfb831",
   "metadata": {},
   "outputs": [],
   "source": [
    "categorical_vars = df.select_dtypes(include=['object','category']).columns.tolist()"
   ]
  },
  {
   "cell_type": "code",
   "execution_count": 15,
   "id": "7209a8a6-006f-4a07-91e1-a14299523a03",
   "metadata": {},
   "outputs": [
    {
     "data": {
      "text/plain": [
       "array(['Winter Weather', 'Cloudy', 'Clear', 'Rain', 'Reduced Visibility',\n",
       "       'Extreme/Stormy Weather', 'Other/Unknown'], dtype=object)"
      ]
     },
     "execution_count": 15,
     "metadata": {},
     "output_type": "execute_result"
    }
   ],
   "source": [
    "df[\"Weather_Condition\"].unique()"
   ]
  },
  {
   "cell_type": "markdown",
   "id": "09fa748a-142e-4b52-8e36-54244242c608",
   "metadata": {},
   "source": [
    "Some columns are now redundant since we used them to create other variables. For example, Start_Time and End_Time as no longer needed as we have plenty of more relevant temporal variables. In addition, columns such as County, City and Street have too many unique values to be usuable as they are. Furthermore, given that we are building a model using data from US cities similar to Montreal, the State variable wouldn't be needed as a feature for our models. We are thus left with Weather_Condition."
   ]
  },
  {
   "cell_type": "code",
   "execution_count": 17,
   "id": "ad9e9982-6b8e-44a0-9278-36725955605b",
   "metadata": {},
   "outputs": [
    {
     "data": {
      "image/png": "[encoded data removed]",
      "text/plain": [
       "<Figure size 360x396 with 1 Axes>"
      ]
     },
     "metadata": {
      "needs_background": "light"
     },
     "output_type": "display_data"
    }
   ],
   "source": [
    "# Count the occurrences of each category\n",
    "category_counts = df['Weather_Condition'].value_counts()\n",
    "# Plot barplot\n",
    "plt.figure(figsize=(5, 5.5))\n",
    "sns.countplot(data=df, x=\"Weather_Condition\")\n",
    "plt.title('Accidents Frequency by Weather Condition', fontsize=14)\n",
    "plt.xticks(rotation=90)\n",
    "plt.tight_layout()\n",
    "plt.show()"
   ]
  },
  {
   "cell_type": "markdown",
   "id": "6d416da4-c1a3-48ea-9c7a-a08b9d109978",
   "metadata": {
    "tags": []
   },
   "source": [
    "### 2. Correlation analysis"
   ]
  },
  {
   "cell_type": "code",
   "execution_count": 18,
   "id": "3f01907d-86ae-4040-8bb2-ae84a9c8b35a",
   "metadata": {},
   "outputs": [],
   "source": [
    "import statsmodels.api as sm\n",
    "from statsmodels.miscmodels.ordinal_model import OrderedModel\n",
    "from statsmodels.stats.outliers_influence import variance_inflation_factor"
   ]
  },
  {
   "cell_type": "code",
   "execution_count": 19,
   "id": "cb9404d9-22cb-4cd6-8fc8-766d03f42c0e",
   "metadata": {},
   "outputs": [],
   "source": [
    "def test_multicollinearity(df, variables):\n",
    "    X = df[variables]\n",
    "    vif_data = pd.DataFrame()  # Variance Inflation Factor (VIF)\n",
    "    vif_data[\"Variable\"] = X.columns\n",
    "    vif_data[\"VIF\"] = [variance_inflation_factor(X.values, i) for i in range(len(X.columns))]\n",
    "    print(vif_data)"
   ]
  },
  {
   "cell_type": "code",
   "execution_count": 20,
   "id": "a4e394b1-c622-4ef4-81fb-8367c4336ba2",
   "metadata": {},
   "outputs": [],
   "source": [
    "def ordinal_lr(df, ordinal_cols, target, maxiter=1000):\n",
    "    X = df[ordinal_cols]\n",
    "    y = df[target]\n",
    "    # Fit an ordinal logistic regression model\n",
    "    model = OrderedModel(y, X, distr='logit')\n",
    "    result = model.fit(maxiter=maxiter)\n",
    "    # Summary of the model\n",
    "    print(result.summary())"
   ]
  },
  {
   "cell_type": "markdown",
   "id": "7d8ae271-4634-43e3-80e9-8af2c7bf4455",
   "metadata": {},
   "source": [
    "#### 2.1. Numerical variables\n",
    "* *Weather Influence:* Higher atmospheric pressure and wind speed correlate with increased incident severity, while better visibility is associated with lower severity, highlighting the impact of weather conditions.\n",
    "* *Distance Effect:* Greater distances relate to decreased severity, suggesting that incidents occurring over longer distances may be less severe.\n",
    "* *Temporal Variations:* Severity varies by time of day, day of the week, and month, indicating that certain periods carry higher risks for severe incidents."
   ]
  },
  {
   "cell_type": "code",
   "execution_count": 21,
   "id": "6015c36b-c952-4808-9f4e-8f7b592ed15a",
   "metadata": {},
   "outputs": [],
   "source": [
    "numerical_vars.remove(\"Severity\")"
   ]
  },
  {
   "cell_type": "code",
   "execution_count": 22,
   "id": "1fecaab4-4665-411a-83c6-1d1db6643852",
   "metadata": {},
   "outputs": [
    {
     "name": "stdout",
     "output_type": "stream",
     "text": [
      "             Variable        VIF\n",
      "0        Distance(mi)   1.192036\n",
      "1      Temperature(F)   7.342988\n",
      "2         Humidity(%)  21.198413\n",
      "3        Pressure(in)  79.498532\n",
      "4      Visibility(mi)  17.259509\n",
      "5     Wind_Speed(mph)   3.930968\n",
      "6   Precipitation(in)   1.125525\n",
      "7       Duration(min)   1.707068\n",
      "8                Hour   6.088597\n",
      "9         Day_of_Week   4.965631\n",
      "10              Month   4.566228\n"
     ]
    }
   ],
   "source": [
    "test_multicollinearity(df, numerical_vars)"
   ]
  },
  {
   "cell_type": "markdown",
   "id": "1550befc-1fa0-438d-90ff-452dfccab631",
   "metadata": {},
   "source": [
    "Certain variables such as Humidity, Pressure, and Visibility have high collinearity. There presence may affect the model's performances; on the other hand, we could create a new feature from them. In additon, there is a moderate negative correlation between Pressure and Precipitation. Given that Pressure has high collinearity, we may drop it."
   ]
  },
  {
   "cell_type": "code",
   "execution_count": 23,
   "id": "5d0d9f21-fe2e-46bc-a889-2edf501a9476",
   "metadata": {},
   "outputs": [],
   "source": [
    "for col in [\"Pressure(in)\", \"Visibility(mi)\"]:\n",
    "    if col in numerical_vars:\n",
    "        numerical_vars.remove(col)"
   ]
  },
  {
   "cell_type": "code",
   "execution_count": 24,
   "id": "34dd33cb-a77f-4060-afe0-c5be660ee9fa",
   "metadata": {},
   "outputs": [
    {
     "name": "stdout",
     "output_type": "stream",
     "text": [
      "            Variable       VIF\n",
      "0       Distance(mi)  1.185831\n",
      "1     Temperature(F)  5.592941\n",
      "2        Humidity(%)  6.852734\n",
      "3    Wind_Speed(mph)  3.433243\n",
      "4  Precipitation(in)  1.051317\n",
      "5      Duration(min)  1.689640\n",
      "6               Hour  5.064532\n",
      "7        Day_of_Week  4.577233\n",
      "8              Month  4.457687\n"
     ]
    }
   ],
   "source": [
    "test_multicollinearity(df, numerical_vars)"
   ]
  },
  {
   "cell_type": "code",
   "execution_count": 25,
   "id": "0b23563c-c034-4d1e-8792-9a830711940b",
   "metadata": {},
   "outputs": [
    {
     "name": "stdout",
     "output_type": "stream",
     "text": [
      "Optimization terminated successfully.\n",
      "         Current function value: 0.728042\n",
      "         Iterations: 3030\n",
      "         Function evaluations: 4163\n",
      "                             OrderedModel Results                             \n",
      "==============================================================================\n",
      "Dep. Variable:               Severity   Log-Likelihood:            -1.6941e+05\n",
      "Model:                   OrderedModel   AIC:                         3.388e+05\n",
      "Method:            Maximum Likelihood   BIC:                         3.390e+05\n",
      "Date:                Mon, 30 Sep 2024                                         \n",
      "Time:                        21:49:54                                         \n",
      "No. Observations:              232687                                         \n",
      "Df Residuals:                  232675                                         \n",
      "Df Model:                           9                                         \n",
      "=====================================================================================\n",
      "                        coef    std err          z      P>|z|      [0.025      0.975]\n",
      "-------------------------------------------------------------------------------------\n",
      "Distance(mi)         -0.1322      0.005    -25.829      0.000      -0.142      -0.122\n",
      "Temperature(F)        0.0068      0.000     30.247      0.000       0.006       0.007\n",
      "Humidity(%)          -0.0003      0.000     -1.254      0.210      -0.001       0.000\n",
      "Wind_Speed(mph)       0.0091      0.001     10.852      0.000       0.007       0.011\n",
      "Precipitation(in)    -0.1279      0.136     -0.939      0.348      -0.395       0.139\n",
      "Duration(min)        -0.0020   4.28e-05    -47.115      0.000      -0.002      -0.002\n",
      "Hour                  0.0192      0.001     23.038      0.000       0.018       0.021\n",
      "Day_of_Week           0.0587      0.002     23.721      0.000       0.054       0.064\n",
      "Month                -0.0167      0.001    -13.245      0.000      -0.019      -0.014\n",
      "1/2                  -4.7902      0.041   -116.059      0.000      -4.871      -4.709\n",
      "2/3                   1.7858      0.005    383.063      0.000       1.777       1.795\n",
      "3/4                   1.2002      0.005    261.665      0.000       1.191       1.209\n",
      "=====================================================================================\n"
     ]
    }
   ],
   "source": [
    "ordinal_lr(df, numerical_vars, \"Severity\", maxiter=5000)"
   ]
  },
  {
   "cell_type": "markdown",
   "id": "c53dcee3-0d00-4287-ba32-9e0cc955653e",
   "metadata": {},
   "source": [
    "The p-value for Humidity is very high (0.78), it is therefore not a significant predictor. In addition, we can use a boolean variable to signify if we are on a weekend or not, thus we may discard Day_of_Week."
   ]
  },
  {
   "cell_type": "code",
   "execution_count": 26,
   "id": "ee5b798a-899a-4ff0-baee-82d4c34477db",
   "metadata": {},
   "outputs": [],
   "source": [
    "for col in [\"Humidity(%)\", \"Day_of_Week\"]:\n",
    "    if col in numerical_vars:\n",
    "        numerical_vars.remove(col)"
   ]
  },
  {
   "cell_type": "markdown",
   "id": "ee110ac9-1b5c-4bde-a163-75f4a04fe990",
   "metadata": {},
   "source": [
    "#### 2.2. Boolean variables\n",
    "* Most variables are statistically significant in predicting accident severity, except Roundabout and Give_Way.\n",
    "* *Bump, No_Exit, Railway, Is_Highway, Is_Weekend, Is_Night:* These factors is associated with a higher likelihood of more severe accidents.\n",
    "* *Amenity, Crossing, Junction, Traffic Signal, Stop:* These factors is associated with a lower likelihood of more severe accidents."
   ]
  },
  {
   "cell_type": "code",
   "execution_count": 27,
   "id": "26673e99-a096-4b0e-b14f-87c6988a2e29",
   "metadata": {},
   "outputs": [
    {
     "name": "stdout",
     "output_type": "stream",
     "text": [
      "         Variable       VIF\n",
      "0        Crossing  0.000040\n",
      "1  Traffic_Signal  0.000044\n",
      "2      Is_Highway  0.000013\n",
      "3      Is_Weekend  0.000034\n",
      "4        Is_Night  0.000017\n"
     ]
    }
   ],
   "source": [
    "test_multicollinearity(df, boolean_vars)"
   ]
  },
  {
   "cell_type": "code",
   "execution_count": 28,
   "id": "4872b7ee-8c8f-4fd5-85e5-ed6f76146a26",
   "metadata": {},
   "outputs": [
    {
     "name": "stdout",
     "output_type": "stream",
     "text": [
      "Optimization terminated successfully.\n",
      "         Current function value: 0.724402\n",
      "         Iterations: 1173\n",
      "         Function evaluations: 1708\n",
      "                             OrderedModel Results                             \n",
      "==============================================================================\n",
      "Dep. Variable:               Severity   Log-Likelihood:            -1.6856e+05\n",
      "Model:                   OrderedModel   AIC:                         3.371e+05\n",
      "Method:            Maximum Likelihood   BIC:                         3.372e+05\n",
      "Date:                Mon, 30 Sep 2024                                         \n",
      "Time:                        21:50:41                                         \n",
      "No. Observations:              232687                                         \n",
      "Df Residuals:                  232679                                         \n",
      "Df Model:                           5                                         \n",
      "==================================================================================\n",
      "                     coef    std err          z      P>|z|      [0.025      0.975]\n",
      "----------------------------------------------------------------------------------\n",
      "Crossing          -0.5141      0.015    -33.403      0.000      -0.544      -0.484\n",
      "Traffic_Signal    -0.4240      0.016    -26.698      0.000      -0.455      -0.393\n",
      "Is_Highway         0.2856      0.009     30.523      0.000       0.267       0.304\n",
      "Is_Weekend         0.3265      0.012     26.853      0.000       0.303       0.350\n",
      "Is_Night           0.0714      0.009      7.577      0.000       0.053       0.090\n",
      "1/2               -5.2381      0.028   -184.906      0.000      -5.294      -5.183\n",
      "2/3                1.7874      0.005    384.902      0.000       1.778       1.797\n",
      "3/4                1.2012      0.005    262.091      0.000       1.192       1.210\n",
      "==================================================================================\n"
     ]
    }
   ],
   "source": [
    "ordinal_lr(df, boolean_vars, \"Severity\", maxiter=8000)"
   ]
  },
  {
   "cell_type": "markdown",
   "id": "7fbe3b4a-9a5d-4adc-a44d-26e1c12ed6aa",
   "metadata": {
    "tags": []
   },
   "source": [
    "#### 2.3. Categorical variables\n",
    "* *Dry Weather:* Accidents occurring under dry conditions predominantly result in severity levels 2 (medium) and 3 (high). This indicates that while dry weather is common, it often leads to moderate severity outcomes.\n",
    "* *Snowy Conditions:* Snowy weather is associated with a significant increase in severity levels 3 (high) and 4 (very high). This suggests that snow greatly impacts the likelihood of severe accidents.\n",
    "* *Other and Wet Weather:* While accidents under 'Other' and 'Wet Weather' can reach severity levels 3 (high) and 4 (very high), their overall contribution to accident severity is relatively lower. This implies that these conditions are less critical factors in determining accident severity compared to dry and snowy weather.\n",
    "* *Low Pseudo R-squared:* The model's ability to explain the variability in Severity is low, indicating that other factors not included in the model may also play a significant role"
   ]
  },
  {
   "cell_type": "code",
   "execution_count": 29,
   "id": "1413158e-0d3f-488e-9ba2-ee8345055cce",
   "metadata": {},
   "outputs": [],
   "source": [
    "categorical_vars = [\"Weather_Condition\"]"
   ]
  },
  {
   "cell_type": "code",
   "execution_count": 30,
   "id": "929ae47e-a7f8-42b4-90e3-bfa8dc05bd20",
   "metadata": {},
   "outputs": [
    {
     "data": {
      "image/png": "[encoded data removed]",
      "text/plain": [
       "<Figure size 360x360 with 1 Axes>"
      ]
     },
     "metadata": {
      "needs_background": "light"
     },
     "output_type": "display_data"
    }
   ],
   "source": [
    "for col in categorical_vars:\n",
    "    # Calculate normalized counts (proportions) and pivot the data\n",
    "    df_pivot = (df.groupby([col, 'Severity']).size()\n",
    "                 .groupby(level=0, group_keys=False)\n",
    "                 .apply(lambda x: x / x.sum())\n",
    "                 .unstack()\n",
    "                 .fillna(0))\n",
    "    # Plot a stacked barplot\n",
    "    fig, ax = plt.subplots(figsize=(5, 5))\n",
    "    df_pivot.plot(kind='bar', stacked=True, ax=ax, color=['#1f77b4', '#ff7f0e', '#2ca02c', '#d62728'])\n",
    "    # Set labels and title\n",
    "    ax.set_title(f'Proportion of Severity by {col}', fontsize=14)\n",
    "    ax.set_xlabel(col)\n",
    "    ax.set_ylabel('Proportion')\n",
    "    # Show legend and rotate x-axis labels if needed\n",
    "    ax.legend(title='Severity')\n",
    "    plt.xticks(rotation=90, ha='right')\n",
    "    plt.tight_layout()\n",
    "    # Show plot\n",
    "    plt.show()\n"
   ]
  },
  {
   "cell_type": "markdown",
   "id": "2c81f9b3-1473-4d96-993e-fddcb93b1b39",
   "metadata": {},
   "source": [
    "### Features selected"
   ]
  },
  {
   "cell_type": "code",
   "execution_count": 31,
   "id": "91eb1e06-89aa-43e1-b9a6-44ce04551dce",
   "metadata": {},
   "outputs": [
    {
     "data": {
      "text/plain": [
       "13"
      ]
     },
     "execution_count": 31,
     "metadata": {},
     "output_type": "execute_result"
    }
   ],
   "source": [
    "features = numerical_vars + boolean_vars + categorical_vars\n",
    "len(features)"
   ]
  },
  {
   "cell_type": "code",
   "execution_count": 32,
   "id": "145ad487-b2c6-40f0-aee3-ad95576a7dd0",
   "metadata": {},
   "outputs": [
    {
     "name": "stdout",
     "output_type": "stream",
     "text": [
      "<class 'pandas.core.frame.DataFrame'>\n",
      "RangeIndex: 232687 entries, 0 to 232686\n",
      "Data columns (total 13 columns):\n",
      " #   Column             Non-Null Count   Dtype  \n",
      "---  ------             --------------   -----  \n",
      " 0   Distance(mi)       232687 non-null  float64\n",
      " 1   Temperature(F)     232687 non-null  float64\n",
      " 2   Wind_Speed(mph)    232687 non-null  float64\n",
      " 3   Precipitation(in)  232687 non-null  float64\n",
      " 4   Duration(min)      232687 non-null  float64\n",
      " 5   Hour               232687 non-null  int64  \n",
      " 6   Month              232687 non-null  int64  \n",
      " 7   Crossing           232687 non-null  bool   \n",
      " 8   Traffic_Signal     232687 non-null  bool   \n",
      " 9   Is_Highway         232687 non-null  bool   \n",
      " 10  Is_Weekend         232687 non-null  bool   \n",
      " 11  Is_Night           232687 non-null  bool   \n",
      " 12  Weather_Condition  232687 non-null  object \n",
      "dtypes: bool(5), float64(5), int64(2), object(1)\n",
      "memory usage: 15.3+ MB\n"
     ]
    }
   ],
   "source": [
    "df[features].info()"
   ]
  },
  {
   "cell_type": "code",
   "execution_count": null,
   "id": "3bc7ca27-3cb2-4b17-b403-32541d3bf798",
   "metadata": {},
   "outputs": [],
   "source": []
  }
 ],
 "metadata": {
  "kernelspec": {
   "display_name": "dl-env",
   "language": "python",
   "name": "dl-env"
  },
  "language_info": {
   "codemirror_mode": {
    "name": "ipython",
    "version": 3
   },
   "file_extension": ".py",
   "mimetype": "text/x-python",
   "name": "python",
   "nbconvert_exporter": "python",
   "pygments_lexer": "ipython3",
   "version": "3.9.19"
  }
 },
 "nbformat": 4,
 "nbformat_minor": 5
}
