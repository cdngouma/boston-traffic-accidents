{
 "cells": [
  {
   "cell_type": "code",
   "execution_count": 1,
   "id": "fb53f556-f61f-4297-8790-b8882073e47b",
   "metadata": {},
   "outputs": [],
   "source": [
    "import etl\n",
    "import pandas as pd\n",
    "import numpy as np"
   ]
  },
  {
   "cell_type": "code",
   "execution_count": 2,
   "id": "d643f410-f7b9-4bf1-b062-70f59091bc30",
   "metadata": {},
   "outputs": [],
   "source": [
    "from sklearn.preprocessing import StandardScaler, OneHotEncoder, OrdinalEncoder\n",
    "from sklearn.compose import ColumnTransformer\n",
    "from sklearn.pipeline import Pipeline\n",
    "from imblearn.pipeline import Pipeline as ImbPipeline\n",
    "from sklearn.metrics import classification_report, confusion_matrix, accuracy_score, f1_score, cohen_kappa_score"
   ]
  },
  {
   "cell_type": "code",
   "execution_count": 3,
   "id": "1736f5f2-49c4-46fa-a3da-494119578a82",
   "metadata": {},
   "outputs": [],
   "source": [
    "import matplotlib.pyplot as plt\n",
    "import seaborn as sns"
   ]
  },
  {
   "cell_type": "code",
   "execution_count": 4,
   "id": "9ce1807f-2c22-4448-ab15-da9d60d45076",
   "metadata": {},
   "outputs": [],
   "source": [
    "import joblib"
   ]
  },
  {
   "cell_type": "code",
   "execution_count": 5,
   "id": "b04f9895-5e60-4878-8973-49523f1017ae",
   "metadata": {},
   "outputs": [],
   "source": [
    "def inference_pipeline(model, data, preprocessor, ignore_vars=None, ordinal_feats=[]):\n",
    "    # 1-Preprocess data\n",
    "    #data = etl.preprocess(data)\n",
    "    \n",
    "    # 2-Transformation steps\n",
    "    if \"Severity\" in data.columns:\n",
    "        X = data.drop(columns=[\"Severity\"]).copy()\n",
    "    else:\n",
    "        X = data.copy()\n",
    "    \n",
    "    # Ignore certain columns\n",
    "    if ignore_vars is None:\n",
    "        ignore_vars = []\n",
    "        \n",
    "    X = X[[c for c in X.columns if c not in ignore_vars]]\n",
    "    \n",
    "    X_transformed = preprocessor.transform(X)\n",
    "    \n",
    "    # 3-Inference\n",
    "    predictions = model.predict(X_transformed)\n",
    "    \n",
    "    return predictions"
   ]
  },
  {
   "cell_type": "code",
   "execution_count": 6,
   "id": "1505fe8a-b32d-4804-a095-d26df30e66b3",
   "metadata": {},
   "outputs": [],
   "source": [
    "def evaluate(y_true, y_pred):\n",
    "    accuracy = accuracy_score(y_true, y_pred)\n",
    "    f1 = f1_score(y_true, y_pred, average='weighted')\n",
    "    kappa = cohen_kappa_score(y_true, y_pred)\n",
    "    print(f\"Accuracy: {accuracy:.3f}, F1 Score: {f1:.3f}, Cohen's Kappa: {kappa:.3f}\")"
   ]
  },
  {
   "cell_type": "markdown",
   "id": "3b73f578-0be3-4e67-99a1-24e2a43244e4",
   "metadata": {},
   "source": [
    "### Load model"
   ]
  },
  {
   "cell_type": "code",
   "execution_count": 7,
   "id": "eaa222a5-ab35-4ad9-baeb-77e45e70aa16",
   "metadata": {},
   "outputs": [],
   "source": [
    "model = joblib.load(\"models/xgb_model_20241001_144429.pkl\")\n",
    "preprocessor = joblib.load(\"models/xgb_preprocessor_20241001_144429.pkl\")"
   ]
  },
  {
   "cell_type": "markdown",
   "id": "51b25671-6874-49f4-a580-32f5a7785af5",
   "metadata": {},
   "source": [
    "### Load data"
   ]
  },
  {
   "cell_type": "code",
   "execution_count": 8,
   "id": "2faf18d3-a215-44ec-a8c1-6f3677ffff30",
   "metadata": {},
   "outputs": [
    {
     "data": {
      "text/plain": [
       "(4866, 46)"
      ]
     },
     "execution_count": 8,
     "metadata": {},
     "output_type": "execute_result"
    }
   ],
   "source": [
    "df = pd.read_csv(\"data/US_Accidents_March23.csv\")\n",
    "df = df[(df[\"State\"] == \"MA\") & (df[\"City\"] == \"Boston\")]\n",
    "df.shape"
   ]
  },
  {
   "cell_type": "code",
   "execution_count": 9,
   "id": "95c14c19-5349-4e38-bcd5-6a9e315068a5",
   "metadata": {},
   "outputs": [
    {
     "data": {
      "text/plain": [
       "(4802, 14)"
      ]
     },
     "execution_count": 9,
     "metadata": {},
     "output_type": "execute_result"
    }
   ],
   "source": [
    "df = etl.preprocess(df)\n",
    "df.shape"
   ]
  },
  {
   "cell_type": "code",
   "execution_count": 10,
   "id": "5d4fb4f4-d2ae-4e0f-aba8-9520d714cc4f",
   "metadata": {},
   "outputs": [
    {
     "data": {
      "text/plain": [
       "2    3309\n",
       "3    1356\n",
       "1     109\n",
       "4      28\n",
       "Name: Severity, dtype: int64"
      ]
     },
     "execution_count": 10,
     "metadata": {},
     "output_type": "execute_result"
    }
   ],
   "source": [
    "df[\"Severity\"].value_counts()"
   ]
  },
  {
   "cell_type": "markdown",
   "id": "f29895da-6857-4b24-a311-298eb73a2290",
   "metadata": {},
   "source": [
    "### Inference"
   ]
  },
  {
   "cell_type": "code",
   "execution_count": 11,
   "id": "c97ced8a-f3a1-4536-af7e-a9d260e09529",
   "metadata": {},
   "outputs": [],
   "source": [
    "target_transformer = OrdinalEncoder(categories=[[1, 2, 3, 4]])\n",
    "y_true = target_transformer.fit_transform(df[\"Severity\"].values.reshape(-1, 1)).ravel()"
   ]
  },
  {
   "cell_type": "code",
   "execution_count": 12,
   "id": "448813b7-6b92-45aa-b837-5c3582cccefc",
   "metadata": {},
   "outputs": [
    {
     "data": {
      "text/plain": [
       "(4802,)"
      ]
     },
     "execution_count": 12,
     "metadata": {},
     "output_type": "execute_result"
    }
   ],
   "source": [
    "y_true.shape"
   ]
  },
  {
   "cell_type": "code",
   "execution_count": 13,
   "id": "513e9d90-9c17-44c5-ae0a-da14228feb1e",
   "metadata": {},
   "outputs": [
    {
     "name": "stdout",
     "output_type": "stream",
     "text": [
      "CPU times: total: 625 ms\n",
      "Wall time: 235 ms\n"
     ]
    },
    {
     "name": "stderr",
     "output_type": "stream",
     "text": [
      "C:\\Users\\ngoum\\anaconda3\\envs\\dl-env\\lib\\site-packages\\xgboost\\core.py:160: UserWarning: [16:03:26] WARNING: C:\\buildkite-agent\\builds\\buildkite-windows-cpu-autoscaling-group-i-0750514818a16474a-1\\xgboost\\xgboost-ci-windows\\src\\common\\error_msg.cc:58: Falling back to prediction using DMatrix due to mismatched devices. This might lead to higher memory usage and slower performance. XGBoost is running on: cuda:0, while the input data is on: cpu.\n",
      "Potential solutions:\n",
      "- Use a data structure that matches the device ordinal in the booster.\n",
      "- Set the device for booster before call to inplace_predict.\n",
      "\n",
      "This warning will only be shown once.\n",
      "\n",
      "  warnings.warn(smsg, UserWarning)\n"
     ]
    }
   ],
   "source": [
    "%%time\n",
    "y_pred = inference_pipeline(model=model, data=df, preprocessor=preprocessor, ignore_vars=None, ordinal_feats=[\"Month\"])"
   ]
  },
  {
   "cell_type": "code",
   "execution_count": 14,
   "id": "6c3677b3-e1a9-4291-8893-d19313254bb7",
   "metadata": {},
   "outputs": [
    {
     "name": "stdout",
     "output_type": "stream",
     "text": [
      "Accuracy: 0.705, F1 Score: 0.716, Cohen's Kappa: 0.403\n"
     ]
    }
   ],
   "source": [
    "evaluate(y_true, y_pred)"
   ]
  },
  {
   "cell_type": "code",
   "execution_count": 15,
   "id": "67254342-83f6-424f-af7f-6a81bdec8e87",
   "metadata": {},
   "outputs": [
    {
     "name": "stdout",
     "output_type": "stream",
     "text": [
      "              precision    recall  f1-score   support\n",
      "\n",
      "         0.0       0.15      0.18      0.16       109\n",
      "         1.0       0.86      0.71      0.78      3309\n",
      "         2.0       0.54      0.74      0.62      1356\n",
      "         3.0       0.05      0.07      0.06        28\n",
      "\n",
      "    accuracy                           0.70      4802\n",
      "   macro avg       0.40      0.43      0.41      4802\n",
      "weighted avg       0.75      0.70      0.72      4802\n",
      "\n"
     ]
    }
   ],
   "source": [
    "print(classification_report(y_true, y_pred))"
   ]
  },
  {
   "cell_type": "code",
   "execution_count": 21,
   "id": "61b5db9c-4100-4c83-8f81-cf8e75497f89",
   "metadata": {},
   "outputs": [],
   "source": [
    "def plot_confusion_matrix(y_true, y_pred):\n",
    "    cm = confusion_matrix(y_true, y_pred, normalize='true')\n",
    "    # Plot confusion matrix\n",
    "    plt.figure(figsize=(4, 3))\n",
    "    sns.heatmap(cm, annot=True, fmt=\".2f\", cmap=\"Blues\", cbar=False, xticklabels=[1, 2, 3, 4], yticklabels=[1, 2, 3, 4])\n",
    "    plt.xlabel('Predicted')\n",
    "    plt.ylabel('Actual')\n",
    "    plt.title('Confusion Matrix')\n",
    "    plt.tight_layout()\n",
    "    plt.show()"
   ]
  },
  {
   "cell_type": "code",
   "execution_count": 22,
   "id": "f2924556-74b1-41be-84aa-005dded3dacf",
   "metadata": {},
   "outputs": [
    {
     "data": {
      "image/png": "[encoded data removed]",
      "text/plain": [
       "<Figure size 288x216 with 1 Axes>"
      ]
     },
     "metadata": {
      "needs_background": "light"
     },
     "output_type": "display_data"
    }
   ],
   "source": [
    "plot_confusion_matrix(y_true, y_pred)"
   ]
  },
  {
   "cell_type": "code",
   "execution_count": null,
   "id": "1375d906-5a97-455c-8e68-97a68a14db32",
   "metadata": {},
   "outputs": [],
   "source": []
  }
 ],
 "metadata": {
  "kernelspec": {
   "display_name": "dl-env",
   "language": "python",
   "name": "dl-env"
  },
  "language_info": {
   "codemirror_mode": {
    "name": "ipython",
    "version": 3
   },
   "file_extension": ".py",
   "mimetype": "text/x-python",
   "name": "python",
   "nbconvert_exporter": "python",
   "pygments_lexer": "ipython3",
   "version": "3.9.19"
  }
 },
 "nbformat": 4,
 "nbformat_minor": 5
}
