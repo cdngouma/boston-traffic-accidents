{
 "cells": [
  {
   "cell_type": "code",
   "execution_count": 1,
   "id": "663a523d-7d59-42ce-b6e6-55234a5add5e",
   "metadata": {},
   "outputs": [],
   "source": [
    "import pandas as pd\n",
    "import numpy as np\n",
    "from scipy import stats\n",
    "import re"
   ]
  },
  {
   "cell_type": "code",
   "execution_count": 2,
   "id": "cf17c83b-cd02-451b-9845-2d09369032fa",
   "metadata": {},
   "outputs": [],
   "source": [
    "import matplotlib.pyplot as plt\n",
    "import seaborn as sns"
   ]
  },
  {
   "cell_type": "markdown",
   "id": "4c968d12-8d84-4507-8295-bba4cecb9ace",
   "metadata": {},
   "source": [
    "For this project we are using the [US Accidents](https://www.kaggle.com/datasets/sobhanmoosavi/us-accidents) dataset from Kaggle. This dataset contains data of traffic accidents that occured in the US from 2016 to 2023 so we will filter it to only work with data for cities the most similar to Montreal, QC."
   ]
  },
  {
   "cell_type": "markdown",
   "id": "0c2a676b-65ee-4cd3-bc7d-cf084b0df3a8",
   "metadata": {},
   "source": [
    "### Load dataset"
   ]
  },
  {
   "cell_type": "code",
   "execution_count": 3,
   "id": "17d76c1a-dc76-4d31-9072-3fafe9049cec",
   "metadata": {},
   "outputs": [
    {
     "data": {
      "text/plain": [
       "(7728394, 46)"
      ]
     },
     "execution_count": 3,
     "metadata": {},
     "output_type": "execute_result"
    }
   ],
   "source": [
    "us_data = pd.read_csv(\"data/US_Accidents_March23.csv\")\n",
    "us_data.shape"
   ]
  },
  {
   "cell_type": "markdown",
   "id": "5a253a51-6187-4aaf-bb6f-0631c6c40ba2",
   "metadata": {},
   "source": [
    "### Filtering dataset\n",
    "Similar to Montreal, some U.S. cities, such as Boston, Minneapolis, and Chicago, share key characteristics like cold winters, urban density, and reliance on public transportation. These cities experience harsh weather conditions that affect road safety, leading to higher accident rates during winter, much like Montreal. They also have dense urban areas with mixed traffic from cars and public transit, creating complex traffic patterns. Additionally, cities like Pittsburgh and Seattle face geographic challenges that further impact road infrastructure, making them comparable to Montreal in traffic and accident dynamics."
   ]
  },
  {
   "cell_type": "code",
   "execution_count": 4,
   "id": "b00be370-ec17-437e-b0d0-6181dbc5639f",
   "metadata": {},
   "outputs": [],
   "source": [
    "similar_cities = [\"Philadelphia, PA\", \"Minneapolis, MN\", \"Chicago, IL\", \"\tPittsburgh, PA\", \"Buffalo, NY\", \"Cleveland, OH\", \n",
    "                  \"Seattle, WA\", \"Detroit, MI\", \"Milwaukee, WI\", \"Rochester, NY\", \"Denver, CO\", \"Albany, NY\", \"Portland, ME\"]"
   ]
  },
  {
   "cell_type": "code",
   "execution_count": 5,
   "id": "57621e9f-6ebe-4449-b129-492c6b0c9474",
   "metadata": {},
   "outputs": [
    {
     "data": {
      "text/plain": [
       "(260269, 46)"
      ]
     },
     "execution_count": 5,
     "metadata": {},
     "output_type": "execute_result"
    }
   ],
   "source": [
    "filtered_data = us_data[(us_data[\"City\"] + \", \" + us_data[\"State\"]).isin(similar_cities)]\n",
    "filtered_data.shape"
   ]
  },
  {
   "cell_type": "code",
   "execution_count": 6,
   "id": "4f70a282-75ac-401b-8a78-939fb2849f35",
   "metadata": {},
   "outputs": [],
   "source": [
    "df_clean = filtered_data.copy()\n",
    "del(filtered_data)"
   ]
  },
  {
   "cell_type": "markdown",
   "id": "ab1fe1ac-80c1-48ee-862d-e512884e1afa",
   "metadata": {},
   "source": [
    "### Drop redundant or irrelevant columns"
   ]
  },
  {
   "cell_type": "code",
   "execution_count": 7,
   "id": "3e0f7f6c-3291-4412-b2f4-9283f9c2fc06",
   "metadata": {},
   "outputs": [],
   "source": [
    "initial_size = len(df_clean)"
   ]
  },
  {
   "cell_type": "code",
   "execution_count": 8,
   "id": "0e8afe3a-8126-42b3-a365-1a910c71fe62",
   "metadata": {},
   "outputs": [],
   "source": [
    "df_clean = df_clean.drop(columns=[\"Country\", \"Source\", \"End_Lat\", \"End_Lng\", \"Description\", \"Airport_Code\", \"Civil_Twilight\", \"Nautical_Twilight\", \"Astronomical_Twilight\",\n",
    "                                 \"Wind_Direction\", \"Wind_Chill(F)\", \"Timezone\", \"Weather_Timestamp\", \"Zipcode\"])"
   ]
  },
  {
   "cell_type": "code",
   "execution_count": 9,
   "id": "3756cd89-44e8-450a-8ee6-863522e819ee",
   "metadata": {},
   "outputs": [
    {
     "name": "stdout",
     "output_type": "stream",
     "text": [
      "<class 'pandas.core.frame.DataFrame'>\n",
      "Int64Index: 260269 entries, 87 to 7728271\n",
      "Data columns (total 32 columns):\n",
      " #   Column             Non-Null Count   Dtype  \n",
      "---  ------             --------------   -----  \n",
      " 0   ID                 260269 non-null  object \n",
      " 1   Severity           260269 non-null  int64  \n",
      " 2   Start_Time         260269 non-null  object \n",
      " 3   End_Time           260269 non-null  object \n",
      " 4   Start_Lat          260269 non-null  float64\n",
      " 5   Start_Lng          260269 non-null  float64\n",
      " 6   Distance(mi)       260269 non-null  float64\n",
      " 7   Street             260125 non-null  object \n",
      " 8   City               260269 non-null  object \n",
      " 9   County             260269 non-null  object \n",
      " 10  State              260269 non-null  object \n",
      " 11  Temperature(F)     259742 non-null  float64\n",
      " 12  Humidity(%)        259497 non-null  float64\n",
      " 13  Pressure(in)       259860 non-null  float64\n",
      " 14  Visibility(mi)     259779 non-null  float64\n",
      " 15  Wind_Speed(mph)    249672 non-null  float64\n",
      " 16  Precipitation(in)  180914 non-null  float64\n",
      " 17  Weather_Condition  259799 non-null  object \n",
      " 18  Amenity            260269 non-null  bool   \n",
      " 19  Bump               260269 non-null  bool   \n",
      " 20  Crossing           260269 non-null  bool   \n",
      " 21  Give_Way           260269 non-null  bool   \n",
      " 22  Junction           260269 non-null  bool   \n",
      " 23  No_Exit            260269 non-null  bool   \n",
      " 24  Railway            260269 non-null  bool   \n",
      " 25  Roundabout         260269 non-null  bool   \n",
      " 26  Station            260269 non-null  bool   \n",
      " 27  Stop               260269 non-null  bool   \n",
      " 28  Traffic_Calming    260269 non-null  bool   \n",
      " 29  Traffic_Signal     260269 non-null  bool   \n",
      " 30  Turning_Loop       260269 non-null  bool   \n",
      " 31  Sunrise_Sunset     260269 non-null  object \n",
      "dtypes: bool(13), float64(9), int64(1), object(9)\n",
      "memory usage: 42.9+ MB\n"
     ]
    }
   ],
   "source": [
    "df_clean.info()"
   ]
  },
  {
   "cell_type": "markdown",
   "id": "cc8a8f6f-b9e8-49b4-b893-3a54b04f16e9",
   "metadata": {},
   "source": [
    "### Fix data types"
   ]
  },
  {
   "cell_type": "code",
   "execution_count": 10,
   "id": "0b6719d8-54cb-4dd2-83f7-d4212aef8480",
   "metadata": {},
   "outputs": [],
   "source": [
    "df_clean[\"Start_Time\"] = pd.to_datetime(df_clean[\"Start_Time\"])\n",
    "df_clean[\"End_Time\"] = pd.to_datetime(df_clean[\"End_Time\"])"
   ]
  },
  {
   "cell_type": "markdown",
   "id": "70919e12-8676-4d32-acfb-ce38b7bd67a1",
   "metadata": {},
   "source": [
    "### Remove duplicates\n",
    "There are 3,817 (1.56%) duplicated accidents in the dataset."
   ]
  },
  {
   "cell_type": "code",
   "execution_count": 11,
   "id": "2cfa7b01-fc9f-41a8-a24b-8e66d95f23fc",
   "metadata": {},
   "outputs": [
    {
     "data": {
      "text/plain": [
       "0.016901743964897856"
      ]
     },
     "execution_count": 11,
     "metadata": {},
     "output_type": "execute_result"
    }
   ],
   "source": [
    "df_clean.drop(columns=[\"ID\"]).duplicated().sum() / len(df_clean)"
   ]
  },
  {
   "cell_type": "code",
   "execution_count": 12,
   "id": "cfb4848f-190b-4ef3-90ca-40e824f8e19a",
   "metadata": {},
   "outputs": [],
   "source": [
    "df_clean = df_clean.drop(columns=[\"ID\"]).drop_duplicates()"
   ]
  },
  {
   "cell_type": "markdown",
   "id": "ee618bcb-ba57-4045-8900-230d096acdbe",
   "metadata": {},
   "source": [
    "### Handle missing values?"
   ]
  },
  {
   "cell_type": "code",
   "execution_count": 13,
   "id": "30927c8d-87a8-4afe-aded-3ea27ffd87fb",
   "metadata": {},
   "outputs": [
    {
     "data": {
      "text/plain": [
       "Street                0.055888\n",
       "Temperature(F)        0.196975\n",
       "Humidity(%)           0.291554\n",
       "Pressure(in)          0.151640\n",
       "Visibility(mi)        0.182515\n",
       "Wind_Speed(mph)       4.121233\n",
       "Precipitation(in)    30.911791\n",
       "Weather_Condition     0.174698\n",
       "dtype: float64"
      ]
     },
     "execution_count": 13,
     "metadata": {},
     "output_type": "execute_result"
    }
   ],
   "source": [
    "missing_values = df_clean.isnull().sum()\n",
    "missing_values = missing_values[missing_values > 0]\n",
    "# Print percentage of missing values per column\n",
    "100 * missing_values / df_clean.shape[0]"
   ]
  },
  {
   "cell_type": "markdown",
   "id": "f2d85d3a-01a0-4a16-8412-a054b7a2c238",
   "metadata": {},
   "source": [
    "Many columns are missing a very small amount of data (< 1%), hence we could remove the rows with missing values. Meanwhile, in the case of other columns such as `Precipitation` and `Wind_Speed(mph)` as missing value could mean there were no precipitation or nearly still wind, respectively."
   ]
  },
  {
   "cell_type": "code",
   "execution_count": 14,
   "id": "bf8e1607-16ee-4524-a84c-68930161afcf",
   "metadata": {},
   "outputs": [],
   "source": [
    "# Drop rows with missing values\n",
    "df_clean = df_clean.dropna(subset=[\"Street\", \"Temperature(F)\", \"Humidity(%)\", \"Pressure(in)\", \"Visibility(mi)\", \"Weather_Condition\"])"
   ]
  },
  {
   "cell_type": "code",
   "execution_count": 15,
   "id": "aee3629f-0a05-45a7-b64d-68f025a95be2",
   "metadata": {},
   "outputs": [],
   "source": [
    "# Fill missing values\n",
    "df_clean[\"Wind_Speed(mph)\"] = df_clean[\"Wind_Speed(mph)\"].fillna(0.0)\n",
    "df_clean[\"Precipitation(in)\"] = df_clean[\"Precipitation(in)\"].fillna(0.0)"
   ]
  },
  {
   "cell_type": "code",
   "execution_count": 16,
   "id": "82b26a8c-11cd-4517-90df-b7cc655e8632",
   "metadata": {},
   "outputs": [
    {
     "data": {
      "text/plain": [
       "Severity             0\n",
       "Start_Time           0\n",
       "End_Time             0\n",
       "Start_Lat            0\n",
       "Start_Lng            0\n",
       "Distance(mi)         0\n",
       "Street               0\n",
       "City                 0\n",
       "County               0\n",
       "State                0\n",
       "Temperature(F)       0\n",
       "Humidity(%)          0\n",
       "Pressure(in)         0\n",
       "Visibility(mi)       0\n",
       "Wind_Speed(mph)      0\n",
       "Precipitation(in)    0\n",
       "Weather_Condition    0\n",
       "Amenity              0\n",
       "Bump                 0\n",
       "Crossing             0\n",
       "Give_Way             0\n",
       "Junction             0\n",
       "No_Exit              0\n",
       "Railway              0\n",
       "Roundabout           0\n",
       "Station              0\n",
       "Stop                 0\n",
       "Traffic_Calming      0\n",
       "Traffic_Signal       0\n",
       "Turning_Loop         0\n",
       "Sunrise_Sunset       0\n",
       "dtype: int64"
      ]
     },
     "execution_count": 16,
     "metadata": {},
     "output_type": "execute_result"
    }
   ],
   "source": [
    "df_clean.isnull().sum()"
   ]
  },
  {
   "cell_type": "markdown",
   "id": "a5854276-0a9e-4431-a24a-69084c759fc9",
   "metadata": {},
   "source": [
    "### Creating new columns"
   ]
  },
  {
   "cell_type": "markdown",
   "id": "80819754-a432-4f4c-b2bf-5d49d88784bc",
   "metadata": {},
   "source": [
    "Street names by themselves may have too many values to work with but could extract the road type (`Is_Highway`) from the names."
   ]
  },
  {
   "cell_type": "code",
   "execution_count": 17,
   "id": "03212b55-7e98-4f8d-b1cf-5212e3a4ccbc",
   "metadata": {},
   "outputs": [],
   "source": [
    "def is_highway(street_name):\n",
    "    # Check if the street name contains common highway prefixes or suffixes\n",
    "    highway_prefixes = ['I-', 'US-', 'SR-', 'HWY', 'INTERSTATE', 'US HIGHWAY', 'STATE ROUTE']\n",
    "    highway_suffixes = ['INTERSTATE', 'HIGHWAY', 'EXPRESSWAY', 'TURNPIKE', 'PARKWAY', 'ROUTE']\n",
    "    for prefix in highway_prefixes:\n",
    "        if street_name.upper().startswith(prefix):\n",
    "            return True\n",
    "    for suffix in highway_suffixes:\n",
    "        if street_name.upper().endswith(suffix):\n",
    "            return True\n",
    "    return False"
   ]
  },
  {
   "cell_type": "code",
   "execution_count": 18,
   "id": "e029545b-767c-4d74-a736-23da7c8185fc",
   "metadata": {},
   "outputs": [],
   "source": [
    "df_clean[\"Is_Highway\"] = df_clean[\"Street\"].apply(is_highway)"
   ]
  },
  {
   "cell_type": "markdown",
   "id": "97965bec-1b50-4721-b5b6-be04350d41d6",
   "metadata": {},
   "source": [
    "We can also compute the duration of the accident as the difference between `End_Time` and `Start_Time`."
   ]
  },
  {
   "cell_type": "code",
   "execution_count": 19,
   "id": "7ae9a374-800f-4fc4-a4ba-fa3c0cfe27f8",
   "metadata": {},
   "outputs": [],
   "source": [
    "df_clean[\"Duration(min)\"] = (df_clean[\"End_Time\"] - df_clean[\"Start_Time\"]).dt.total_seconds() / 60"
   ]
  },
  {
   "cell_type": "markdown",
   "id": "0f0af769-4f12-4785-95e3-c733cf7c8fbf",
   "metadata": {},
   "source": [
    "We can also extract time-related information from Start_Time"
   ]
  },
  {
   "cell_type": "code",
   "execution_count": 20,
   "id": "09f86277-6b0b-4395-a05c-a1ea8429b2b2",
   "metadata": {},
   "outputs": [],
   "source": [
    "# Date of the accident\n",
    "df_clean[\"Date\"] = pd.to_datetime(df_clean[\"Start_Time\"].dt.date)\n",
    "# Time of the accident\n",
    "df_clean[\"Hour\"] = df_clean[\"Start_Time\"].dt.hour\n",
    "# Day of the week when the accident occured\n",
    "df_clean[\"Day_of_Week\"] = df_clean[\"Start_Time\"].dt.dayofweek + 1  # index for day of the week start at 0\n",
    "df_clean[\"Is_Weekend\"] = df_clean[\"Day_of_Week\"] >= 6\n",
    "# Month of the accident\n",
    "df_clean[\"Month\"] = df_clean[\"Start_Time\"].dt.month\n",
    "# Year of the accident\n",
    "df_clean[\"Year\"] = df_clean[\"Start_Time\"].dt.year"
   ]
  },
  {
   "cell_type": "code",
   "execution_count": 21,
   "id": "98ee625b-e4a0-458e-b6d0-5caa1f9fcc0f",
   "metadata": {},
   "outputs": [],
   "source": [
    "def get_season(month):\n",
    "    if month in [12, 1, 2]:\n",
    "        return \"Winter\"\n",
    "    elif month in [3, 4, 5]:\n",
    "        return \"Spring\"\n",
    "    elif month in [6, 7, 8]:\n",
    "        return \"Summer\"\n",
    "    elif month in [9, 10, 11]:\n",
    "        return \"Fall\"\n",
    "    else:\n",
    "        return \"Invalid month\""
   ]
  },
  {
   "cell_type": "code",
   "execution_count": 22,
   "id": "e3aa4674-9bf9-4d14-af17-ddcb051d08a5",
   "metadata": {},
   "outputs": [],
   "source": [
    "#df_clean[\"Season\"] = df_clean[\"Month\"].apply(get_season)"
   ]
  },
  {
   "cell_type": "markdown",
   "id": "ab651b75-688a-454f-88ee-18a4f0a9b38a",
   "metadata": {},
   "source": [
    "In addition, `Sunrise_Sunset` can be used to determine if it was day of night."
   ]
  },
  {
   "cell_type": "code",
   "execution_count": 23,
   "id": "fe7136ec-70b7-4141-b4b2-985093a3bb31",
   "metadata": {},
   "outputs": [
    {
     "data": {
      "text/plain": [
       "array(['Night', 'Day'], dtype=object)"
      ]
     },
     "execution_count": 23,
     "metadata": {},
     "output_type": "execute_result"
    }
   ],
   "source": [
    "df_clean[\"Sunrise_Sunset\"].unique()"
   ]
  },
  {
   "cell_type": "code",
   "execution_count": 24,
   "id": "6f59302e-a793-4b9e-8d78-304221752963",
   "metadata": {},
   "outputs": [],
   "source": [
    "df_clean[\"Is_Night\"] = df_clean[\"Sunrise_Sunset\"] == \"Night\""
   ]
  },
  {
   "cell_type": "markdown",
   "id": "d4bfcbd5-216a-4e8b-b855-b15608c4e6b9",
   "metadata": {},
   "source": [
    "We have a lot of different type of weather conditions formulated in different manners. We could categorize them."
   ]
  },
  {
   "cell_type": "code",
   "execution_count": 25,
   "id": "c8379cf4-f57f-49fe-bb37-5d13b6ed5d5b",
   "metadata": {},
   "outputs": [],
   "source": [
    "def categorize_weather(condition):\n",
    "    dry_regex = \"clear|fair|sunny|overcast|cloud|haze|patches of fog\"\n",
    "    wet_regex = \"rain|drizzle|shower|storm|thunder|sleet|wintry mix\"\n",
    "    snow_regex = \"snow\"\n",
    "    if re.search(dry_regex, condition.lower()):\n",
    "        return \"Dry Weather\"\n",
    "    if re.search(wet_regex, condition.lower()):\n",
    "        return \"Wet Weather\"\n",
    "    if re.search(snow_regex, condition.lower()):\n",
    "        return \"Snow\"\n",
    "    return \"Other\""
   ]
  },
  {
   "cell_type": "code",
   "execution_count": 26,
   "id": "48d2c52e-4121-441c-b189-7ca394cb1168",
   "metadata": {},
   "outputs": [],
   "source": [
    "def categorize_weather_regex(condition):\n",
    "    # Define the categories and their regex patterns\n",
    "    weather_categories = {\n",
    "        'Clear': r'(clear|fair|sunny)',\n",
    "        'Cloudy': r'(overcast|mostly cloudy|partly cloudy|scattered clouds|cloudy)',\n",
    "        'Reduced Visibility': r'(fog|mist|haze|shallow fog|patches of fog|partial fog|smoke)',\n",
    "        'Rain': r'(rain|light rain|drizzle|light drizzle|heavy rain|showers)',\n",
    "        'Extreme/Stormy Weather': r'(squalls|funnel cloud|thunderstorms and snow|tornado|thunder|thunderstorm|t-storm|storm)',\n",
    "        'Winter Weather': r'(snow|blowing snow|snow shower|snow and sleet|freezing rain|sleet|ice pellets)',\n",
    "    }\n",
    "    \n",
    "    # Match the condition against the regex patterns\n",
    "    for category, pattern in weather_categories.items():\n",
    "        if re.search(pattern, condition, re.IGNORECASE):\n",
    "            return category\n",
    "    return 'Other/Unknown'\n"
   ]
  },
  {
   "cell_type": "code",
   "execution_count": 27,
   "id": "7d2678fd-5725-4f50-919b-52deb25c758b",
   "metadata": {},
   "outputs": [],
   "source": [
    "df_clean[\"Weather_Condition\"] = df_clean[\"Weather_Condition\"].apply(lambda condition: categorize_weather_regex(condition))"
   ]
  },
  {
   "cell_type": "code",
   "execution_count": 28,
   "id": "27b2c762-69ea-4d1c-8955-f497f0088332",
   "metadata": {},
   "outputs": [
    {
     "data": {
      "text/plain": [
       "Cloudy                    140831\n",
       "Clear                      68163\n",
       "Rain                       21833\n",
       "Winter Weather             17795\n",
       "Reduced Visibility          4374\n",
       "Other/Unknown                923\n",
       "Extreme/Stormy Weather       821\n",
       "Name: Weather_Condition, dtype: int64"
      ]
     },
     "execution_count": 28,
     "metadata": {},
     "output_type": "execute_result"
    }
   ],
   "source": [
    "df_clean[\"Weather_Condition\"].value_counts()"
   ]
  },
  {
   "cell_type": "markdown",
   "id": "4abdd115-b8ad-4a87-9fc8-b60db1d023b0",
   "metadata": {
    "tags": []
   },
   "source": [
    "### Fixing numeric inconsistencies and removing outliers\n",
    "Some of the values in the dataset appear unrealistic or highly improbable based on historical data from cities similar to Montreal, particularly in the context of traffic accidents. For instance:\n",
    "* The maximum value of 254.4 miles is excessively high for a single traffic accident’s impact. Typically, accidents would affect a much smaller road segment (5-10miles or up to 30miles on highways).\n",
    "* The minimum of -29°F is plausible in the colder cities like Minneapolis or Buffalo. However, the maximum of 189°F is far beyond normal environmental conditions.\n",
    "* The range of 16.82 inHg to 31.14 inHg is quite unusual for atmospheric pressure. Standard atmospheric pressure generally ranges from 28 inHg to 31 inHg.\n",
    "* A maximum visibility of 90 miles seems unrealistic, especially in urban environments with buildings, weather, and air quality affecting visibility. Typical visibility in clear weather would be about 10-20 miles.\n",
    "* The maximum wind speed of 254.3 mph is far too high, likely indicating an error, as this exceeds hurricane-force winds. Typical wind speeds in urban areas range from 0 to 40 mph, with severe storms sometimes reaching 60-70 mph.\n",
    "* The maximum duration of 1,144,140 minutes (~795 days) is clearly unrealistic. A typical range would be from 1 minute to 300 minutes (5 hours), with severe incidents sometimes lasting longer."
   ]
  },
  {
   "cell_type": "code",
   "execution_count": 29,
   "id": "940f19aa-e7b9-4fd1-bb83-c01f6f2222f8",
   "metadata": {},
   "outputs": [],
   "source": [
    "anomalities_cols = ['Distance(mi)', 'Temperature(F)', 'Pressure(in)', 'Visibility(mi)', 'Wind_Speed(mph)', 'Duration(min)']"
   ]
  },
  {
   "cell_type": "code",
   "execution_count": 30,
   "id": "86c7fb59-74e0-4f72-b68f-27a8acac2aaa",
   "metadata": {},
   "outputs": [],
   "source": [
    "# Function to calculate 95% confidence interval excluding outliers\n",
    "def iqr_interval(data, confidence=0.95):\n",
    "    # Calculate IQR\n",
    "    Q1 = np.percentile(data, 25)\n",
    "    Q3 = np.percentile(data, 75)\n",
    "    IQR = Q3 - Q1\n",
    "    # Define bounds for outliers\n",
    "    lower_bound = Q1 - 1.5 * IQR\n",
    "    upper_bound = Q3 + 1.5 * IQR\n",
    "    return (lower_bound, upper_bound)"
   ]
  },
  {
   "cell_type": "code",
   "execution_count": 31,
   "id": "01dd7399-f379-4684-8fa1-6a442e3937c3",
   "metadata": {},
   "outputs": [],
   "source": [
    "def plot_cols_with_anomalies(df):\n",
    "    # Set up subplots\n",
    "    fig, axes = plt.subplots(2, 3, figsize=(10, 5))\n",
    "    axes = axes.flatten()\n",
    "    # Create a box plot for each column\n",
    "    for i, col in enumerate(anomalities_cols):\n",
    "        #sns.boxplot(data=df_clean, x=col, ax=axes[i])\n",
    "        sns.boxplot(data=df, x=col, ax=axes[i])\n",
    "        # Add text for confidence intervals\n",
    "        mean_val = np.mean(df[col])\n",
    "        iqr_low, iqr_high = iqr_interval(df_clean[col].dropna())\n",
    "        ci_text = f'IQR Spread: [{iqr_low:.2f}, {iqr_high:.2f}]' if not iqr_low == iqr_high else 'No valid data'\n",
    "        axes[i].text(0.5, -0.5, ci_text, ha='center', va='center', transform=axes[i].transAxes, fontsize=10)\n",
    "        # Add title\n",
    "        axes[i].set_title(col)\n",
    "    plt.tight_layout()\n",
    "    plt.show()"
   ]
  },
  {
   "cell_type": "code",
   "execution_count": 32,
   "id": "82f9788d-4936-4c9e-8aa8-8c1bd4e79301",
   "metadata": {},
   "outputs": [
    {
     "data": {
      "image/png": "[encoded data removed]",
      "text/plain": [
       "<Figure size 720x360 with 6 Axes>"
      ]
     },
     "metadata": {
      "needs_background": "light"
     },
     "output_type": "display_data"
    }
   ],
   "source": [
    "plot_cols_with_anomalies(df_clean)"
   ]
  },
  {
   "cell_type": "markdown",
   "id": "2d865a48-e5e0-406e-871e-e91c7faff1d8",
   "metadata": {},
   "source": [
    "Lets first remove the highly abnormal values:\n",
    "* Distances of over 30 miles.\n",
    "* Temperatures over 115.35.\n",
    "* Pressure below 25.69 inHg (October 12, 1979 in the eye of Typhoon Tip).\n",
    "* Visibility greater than 20 miles.\n",
    "* Windspeed of over 40mph.\n",
    "* Accident duration of over 24 hours (1440 min)."
   ]
  },
  {
   "cell_type": "code",
   "execution_count": 33,
   "id": "e8e27ae9-ba1a-44f3-bb69-b6835b8a35f0",
   "metadata": {},
   "outputs": [],
   "source": [
    "adjusted_ranges = ((df_clean[\"Distance(mi)\"] <= 30) \\\n",
    "& (df_clean[\"Temperature(F)\"] <= 115.35) \\\n",
    "& (df_clean[\"Pressure(in)\"] >= 25.69) \\\n",
    "& (df_clean[\"Visibility(mi)\"] <= 20) \\\n",
    "& (df_clean[\"Wind_Speed(mph)\"] <= 40) \\\n",
    "& (df_clean[\"Duration(min)\"] <= 1440))"
   ]
  },
  {
   "cell_type": "code",
   "execution_count": 34,
   "id": "fc4ff91f-a231-4739-a262-3b6c5048cf39",
   "metadata": {},
   "outputs": [],
   "source": [
    "df_clean = df_clean[adjusted_ranges]"
   ]
  },
  {
   "cell_type": "markdown",
   "id": "12e075c8-44d4-4807-99fc-4b3779035eb9",
   "metadata": {},
   "source": [
    "After dropping rows with abnormal values, we lose about 10% of the data. Combined with all of the previous data cleaning steps, we are left with about 89% of the original filtered data."
   ]
  },
  {
   "cell_type": "code",
   "execution_count": 35,
   "id": "6dbe890d-f4b6-4d7a-a85d-ff39b9ad6186",
   "metadata": {},
   "outputs": [
    {
     "data": {
      "text/plain": [
       "0.8940250279518498"
      ]
     },
     "execution_count": 35,
     "metadata": {},
     "output_type": "execute_result"
    }
   ],
   "source": [
    "len(df_clean) / initial_size"
   ]
  },
  {
   "cell_type": "code",
   "execution_count": 36,
   "id": "f564f219-c41d-45fd-b297-d659a8166af4",
   "metadata": {},
   "outputs": [
    {
     "data": {
      "image/png": "[encoded data removed]",
      "text/plain": [
       "<Figure size 720x360 with 6 Axes>"
      ]
     },
     "metadata": {
      "needs_background": "light"
     },
     "output_type": "display_data"
    }
   ],
   "source": [
    "plot_cols_with_anomalies(df_clean)"
   ]
  },
  {
   "cell_type": "markdown",
   "id": "d09e1731-16eb-4cf0-bf0c-327ca5df1fd4",
   "metadata": {},
   "source": [
    "### Save dataset"
   ]
  },
  {
   "cell_type": "code",
   "execution_count": 37,
   "id": "d5d71c86-db8c-4845-adc5-67c86fca06f0",
   "metadata": {},
   "outputs": [
    {
     "data": {
      "text/plain": [
       "(232687, 40)"
      ]
     },
     "execution_count": 37,
     "metadata": {},
     "output_type": "execute_result"
    }
   ],
   "source": [
    "df_clean.shape"
   ]
  },
  {
   "cell_type": "code",
   "execution_count": 38,
   "id": "0fefaa21-3281-45c3-8b11-999e268c0935",
   "metadata": {},
   "outputs": [
    {
     "data": {
      "text/plain": [
       "1      1341\n",
       "2    153652\n",
       "3     73403\n",
       "4      4291\n",
       "Name: Severity, dtype: int64"
      ]
     },
     "execution_count": 38,
     "metadata": {},
     "output_type": "execute_result"
    }
   ],
   "source": [
    "df_clean[\"Severity\"].value_counts().sort_index()"
   ]
  },
  {
   "cell_type": "code",
   "execution_count": 39,
   "id": "a737d1e7-a2e1-48aa-89d5-0cbf67a0c38d",
   "metadata": {},
   "outputs": [
    {
     "data": {
      "text/plain": [
       "2016    13484\n",
       "2017    30752\n",
       "2018    39076\n",
       "2019    35510\n",
       "2020    33299\n",
       "2021    36139\n",
       "2022    37365\n",
       "2023     7062\n",
       "Name: Year, dtype: int64"
      ]
     },
     "execution_count": 39,
     "metadata": {},
     "output_type": "execute_result"
    }
   ],
   "source": [
    "df_clean[\"Year\"].value_counts().sort_index()"
   ]
  },
  {
   "cell_type": "code",
   "execution_count": 40,
   "id": "7d89b5c8-1121-47dc-8593-ddd19df95963",
   "metadata": {},
   "outputs": [],
   "source": [
    "df_clean.to_csv(\"data/data_clean.csv\", index=False)"
   ]
  },
  {
   "cell_type": "code",
   "execution_count": null,
   "id": "7772a661-3138-4670-ade7-9a1e8f35ba12",
   "metadata": {},
   "outputs": [],
   "source": []
  }
 ],
 "metadata": {
  "kernelspec": {
   "display_name": "dl-env",
   "language": "python",
   "name": "dl-env"
  },
  "language_info": {
   "codemirror_mode": {
    "name": "ipython",
    "version": 3
   },
   "file_extension": ".py",
   "mimetype": "text/x-python",
   "name": "python",
   "nbconvert_exporter": "python",
   "pygments_lexer": "ipython3",
   "version": "3.9.19"
  }
 },
 "nbformat": 4,
 "nbformat_minor": 5
}
